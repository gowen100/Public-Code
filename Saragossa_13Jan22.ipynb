{
 "cells": [
  {
   "cell_type": "code",
   "execution_count": 8,
   "id": "c0ac528e-12d5-4b3f-b711-0ea4f88b738b",
   "metadata": {},
   "outputs": [],
   "source": [
    "import numpy as np\n",
    "import time\n",
    "import itertools\n",
    "from IPython.display import IFrame\n",
    "from z3 import *"
   ]
  },
  {
   "cell_type": "code",
   "execution_count": 9,
   "id": "aa8df098-b944-43f6-906f-27e4262f57c8",
   "metadata": {},
   "outputs": [
    {
     "data": {
      "text/html": [
       "\n",
       "        <iframe\n",
       "            width=\"504\"\n",
       "            height=\"519\"\n",
       "            src=\"https://www.linkedin.com/embed/feed/update/urn:li:share:6887323186568937472\"\n",
       "            frameborder=\"0\"\n",
       "            allowfullscreen\n",
       "            \n",
       "        ></iframe>\n",
       "        "
      ],
      "text/plain": [
       "<IPython.lib.display.IFrame at 0x235eceb60c8>"
      ]
     },
     "execution_count": 9,
     "metadata": {},
     "output_type": "execute_result"
    }
   ],
   "source": [
    "IFrame(src=\"https://www.linkedin.com/embed/feed/update/urn:li:share:6887323186568937472\",height=\"519\",width=\"504\")"
   ]
  },
  {
   "cell_type": "code",
   "execution_count": 10,
   "id": "94ddb96c-55b3-4fe4-bfb5-8667ecb45c10",
   "metadata": {},
   "outputs": [],
   "source": [
    "def gcd(x):\n",
    "    return Or([And([i % n == 0 for i in x]) for n in range(2,93)])     "
   ]
  },
  {
   "cell_type": "code",
   "execution_count": null,
   "id": "c8ba0cee-d317-4383-98e0-ba6341d74f42",
   "metadata": {},
   "outputs": [],
   "source": [
    "start= time.time()       \n",
    "X = IntVector('x', 6)\n",
    "s = Tactic('qfnia').solver()\n",
    "\n",
    "# rules of the game\n",
    "s += [And(e >= 1  ,e < 92) for e in X]\n",
    "s += Sum(X) == 92\n",
    "s += [gcd([X[i],X[i+1]]) == True for i in range(5)]\n",
    "s += [gcd([X[i],X[j],X[k]]) == False  for i,j,k in [i for i in itertools.permutations([*range(6)],3)]]\n",
    "\n",
    "if s.check() == sat:\n",
    "    m = s.model()\n",
    "    result =  [m.evaluate(x).as_long() for x in X]\n",
    "    print(\"Ages {} line is {} after {:.4f} seconds\".format(np.sort(result),result,time.time()-start))    \n",
    " "
   ]
  },
  {
   "cell_type": "code",
   "execution_count": null,
   "id": "ec85e7ec-c97c-4e0e-9621-4f93791cbc50",
   "metadata": {},
   "outputs": [],
   "source": []
  }
 ],
 "metadata": {
  "kernelspec": {
   "display_name": "Python 3 (ipykernel)",
   "language": "python",
   "name": "python3"
  },
  "language_info": {
   "codemirror_mode": {
    "name": "ipython",
    "version": 3
   },
   "file_extension": ".py",
   "mimetype": "text/x-python",
   "name": "python",
   "nbconvert_exporter": "python",
   "pygments_lexer": "ipython3",
   "version": "3.7.12"
  }
 },
 "nbformat": 4,
 "nbformat_minor": 5
}
