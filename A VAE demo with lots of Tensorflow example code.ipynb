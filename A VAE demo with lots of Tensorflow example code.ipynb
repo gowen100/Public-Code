{
 "cells": [
  {
   "cell_type": "markdown",
   "metadata": {},
   "source": [
    "## Example VAE network with some nice code snips\n",
    "\n",
    "1. Progress bar and custom callback\n",
    "1. Print markup function printmd\n",
    "\n",
    "### First do some imports"
   ]
  },
  {
   "cell_type": "code",
   "execution_count": 1,
   "metadata": {},
   "outputs": [
    {
     "name": "stdout",
     "output_type": "stream",
     "text": [
      "TF version: 2.3.0\n",
      "TFP version: 0.11.0\n"
     ]
    }
   ],
   "source": [
    "from IPython.display import clear_output,Markdown, display\n",
    "import matplotlib.pyplot as plt\n",
    "import numpy as np\n",
    "\n",
    "import tensorflow as tf\n",
    "import tensorflow_probability as tfp\n",
    "from tensorflow.keras.models import Sequential, Model\n",
    "from tensorflow.keras.layers import Dense, Flatten, Reshape\n",
    "from tensorflow.keras.callbacks import Callback\n",
    "\n",
    "\n",
    "tfd = tfp.distributions\n",
    "tfpl = tfp.layers\n",
    "tfb = tfp.bijectors\n",
    "print(\"TF version:\", tf.__version__)\n",
    "print(\"TFP version:\", tfp.__version__)"
   ]
  },
  {
   "cell_type": "markdown",
   "metadata": {},
   "source": [
    "### Then set up the progress bar and printmd functions"
   ]
  },
  {
   "cell_type": "code",
   "execution_count": 2,
   "metadata": {},
   "outputs": [],
   "source": [
    "# Progress bar function\n",
    "def update_progress(progress):\n",
    "    bar_length = 30\n",
    "    if isinstance(progress, int):\n",
    "        progress = float(progress)\n",
    "    if not isinstance(progress, float):\n",
    "        progress = 0\n",
    "    if progress < 0:\n",
    "        progress = 0\n",
    "    if progress >= 1:\n",
    "        progress = 1\n",
    "\n",
    "    block = int(round(bar_length * progress))\n",
    "\n",
    "    clear_output(wait = True)\n",
    "    text = \"Progress: [{0}] {1:.1f}%\".format( \"#\" * block + \"-\" * (bar_length - block), progress * 100)\n",
    "    print(text)\n",
    "    \n",
    "    \n",
    "class progress_bar(Callback):\n",
    "        def on_epoch_end(self, epoch, logs=None):\n",
    "            update_progress((epoch+1)/150)\n",
    "            \n",
    "def printmd(string):\n",
    "    display(Markdown(string))\n",
    "            "
   ]
  },
  {
   "cell_type": "code",
   "execution_count": 3,
   "metadata": {},
   "outputs": [
    {
     "data": {
      "text/markdown": [
       "### `Output as markdown`"
      ],
      "text/plain": [
       "<IPython.core.display.Markdown object>"
      ]
     },
     "metadata": {},
     "output_type": "display_data"
    }
   ],
   "source": [
    "printmd('### `Output as markdown`')"
   ]
  },
  {
   "cell_type": "markdown",
   "metadata": {},
   "source": [
    "### Import and process data"
   ]
  },
  {
   "cell_type": "code",
   "execution_count": 4,
   "metadata": {},
   "outputs": [
    {
     "data": {
      "text/markdown": [
       "**Dataset = <BatchDataset shapes: (None, 28, 28), types: tf.float32>**"
      ],
      "text/plain": [
       "<IPython.core.display.Markdown object>"
      ]
     },
     "metadata": {},
     "output_type": "display_data"
    }
   ],
   "source": [
    "# Import Fasion MNIST, make it a TensorFlow Dataset\n",
    "\n",
    "(x_train_raw, _), (x_test_raw, _) = tf.keras.datasets.fashion_mnist.load_data()\n",
    "x_train = x_train_raw.astype('float32')/255.\n",
    "x_test = x_test_raw.astype('float32')/255.\n",
    "\n",
    "\n",
    "batch_size = 64\n",
    "x_train = tf.data.Dataset.from_tensor_slices(x_train).batch(batch_size)\n",
    "x_test = tf.data.Dataset.from_tensor_slices(x_test).batch(batch_size)\n",
    "printmd('**Dataset = {}**'.format(x_train))"
   ]
  },
  {
   "cell_type": "markdown",
   "metadata": {},
   "source": [
    "### Set up the encoding and decoding networks"
   ]
  },
  {
   "cell_type": "code",
   "execution_count": 8,
   "metadata": {},
   "outputs": [
    {
     "name": "stdout",
     "output_type": "stream",
     "text": [
      "Model: \"vae\"\n",
      "_________________________________________________________________\n",
      "Layer (type)                 Output Shape              Param #   \n",
      "=================================================================\n",
      "flatten_1_input (InputLayer) [(None, 28, 28)]          0         \n",
      "_________________________________________________________________\n",
      "flatten_1 (Flatten)          (None, 784)               0         \n",
      "_________________________________________________________________\n",
      "dense_10 (Dense)             (None, 256)               200960    \n",
      "_________________________________________________________________\n",
      "dense_11 (Dense)             (None, 128)               32896     \n",
      "_________________________________________________________________\n",
      "dense_12 (Dense)             (None, 64)                8256      \n",
      "_________________________________________________________________\n",
      "dense_13 (Dense)             (None, 32)                2080      \n",
      "_________________________________________________________________\n",
      "dense_14 (Dense)             (None, 4)                 132       \n",
      "_________________________________________________________________\n",
      "distribution_lambda_1 (Distr ((None, 2), (None, 2))    0         \n",
      "_________________________________________________________________\n",
      "decoder (Sequential)         (None, 28, 28)            245040    \n",
      "=================================================================\n",
      "Total params: 489,364\n",
      "Trainable params: 489,364\n",
      "Non-trainable params: 0\n",
      "_________________________________________________________________\n",
      "Model: \"decoder\"\n",
      "_________________________________________________________________\n",
      "Layer (type)                 Output Shape              Param #   \n",
      "=================================================================\n",
      "dense_15 (Dense)             (None, 32)                96        \n",
      "_________________________________________________________________\n",
      "dense_16 (Dense)             (None, 64)                2112      \n",
      "_________________________________________________________________\n",
      "dense_17 (Dense)             (None, 128)               8320      \n",
      "_________________________________________________________________\n",
      "dense_18 (Dense)             (None, 256)               33024     \n",
      "_________________________________________________________________\n",
      "dense_19 (Dense)             (None, 784)               201488    \n",
      "_________________________________________________________________\n",
      "independent_bernoulli_1 (Ind ((None, 28, 28), (None, 2 245040    \n",
      "=================================================================\n",
      "Total params: 245,040\n",
      "Trainable params: 245,040\n",
      "Non-trainable params: 0\n",
      "_________________________________________________________________\n"
     ]
    }
   ],
   "source": [
    "# Define the encoding distribution, q(z|x)\n",
    "latent_size = 2\n",
    "event_shape = (28,28)\n",
    "\n",
    "# Define the prior p(x)\n",
    "prior = tfd.MultivariateNormalDiag(loc=tf.zeros(latent_size))\n",
    "\n",
    "encoder =Sequential([Flatten(input_shape=event_shape),\n",
    "               Dense(256,activation='relu'),\n",
    "               Dense(128,activation='relu'),\n",
    "               Dense(64,activation='relu'),\n",
    "               Dense(32,activation='relu'),\n",
    "               Dense(2*latent_size),\n",
    "               tfpl.DistributionLambda(\n",
    "                   lambda t : tfd.MultivariateNormalDiag(loc=t[...,:latent_size],\n",
    "                                                         scale_diag=tf.math.exp(t[...,latent_size:])\n",
    "                                                         )\n",
    "               )\n",
    "  ],name='encoder')\n",
    "\n",
    "\n",
    "# Define the decoding distribution, p(x|z)\n",
    "decoder =Sequential([\n",
    "               Dense(32,activation='relu',input_shape=[latent_size,]),\n",
    "               Dense(64,activation='relu'),\n",
    "               Dense(128,activation='relu'),\n",
    "               Dense(256,activation='relu'),\n",
    "               Dense(tfpl.IndependentBernoulli.params_size(event_shape)),\n",
    "               tfpl.IndependentBernoulli(event_shape)\n",
    "            \n",
    "  ],name='decoder')\n",
    "\n",
    "# VAE\n",
    "vae = Model(inputs=encoder.inputs,outputs=decoder(encoder.outputs),name='vae')\n",
    "\n",
    "vae.summary()\n",
    "decoder.summary()"
   ]
  },
  {
   "cell_type": "code",
   "execution_count": 9,
   "metadata": {},
   "outputs": [
    {
     "name": "stdout",
     "output_type": "stream",
     "text": [
      "-ELBO after epoch 1: 8991\n",
      "-ELBO after epoch 2: 8845\n",
      "-ELBO after epoch 3: 8798\n",
      "-ELBO after epoch 4: 8834\n",
      "-ELBO after epoch 5: 8774\n"
     ]
    }
   ],
   "source": [
    "#### Define the loss function \"ELBO\" = reconstruction error + the KL divergences\n",
    "#### then set up the gradient tape and run the training loop\n",
    "def loss(x,encoding_dist,sampled_decoding_dist,prior):\n",
    "  return tf.reduce_sum(\n",
    "      tfd.kl_divergence(encoding_dist,prior) - sampled_decoding_dist.log_prob(x)      \n",
    "  )\n",
    "\n",
    "# Define a function that returns the loss and its gradients\n",
    "@tf.function\n",
    "def get_loss_and_grads(x):\n",
    "  with tf.GradientTape() as tape:\n",
    "    encoding_dist = encoder(x)\n",
    "    sampled_z = encoding_dist.sample()\n",
    "    sampled_decoding_dist = decoder(sampled_z)\n",
    "    current_loss = loss(x,encoding_dist,sampled_decoding_dist,prior)\n",
    "\n",
    "  grads = tape.gradient(current_loss,encoder.trainable_variables +decoder.trainable_variables)\n",
    "\n",
    "  return current_loss, grads\n",
    "\n",
    "num_epochs = 5\n",
    "opt = tf.keras.optimizers.Adam()\n",
    "for i in range(num_epochs):\n",
    "    for train_batch in x_train:\n",
    "        current_loss, grads = get_loss_and_grads(train_batch)\n",
    "        opt.apply_gradients(zip(grads, encoder.trainable_variables\n",
    "                                       + decoder.trainable_variables))\n",
    "        \n",
    "    print('-ELBO after epoch {}: {:.0f}'.format(i+1, current_loss.numpy()))"
   ]
  },
  {
   "cell_type": "markdown",
   "metadata": {},
   "source": [
    "### Simpler version using the model.fit function and a regulariser .. could also do the Kl divergence as an extra layer"
   ]
  },
  {
   "cell_type": "code",
   "execution_count": 13,
   "metadata": {},
   "outputs": [
    {
     "name": "stdout",
     "output_type": "stream",
     "text": [
      "Epoch 1/5\n",
      "938/938 - 10s - loss: 18694.8828 - val_loss: 17168.6406\n",
      "Epoch 2/5\n",
      "938/938 - 8s - loss: 16828.7656 - val_loss: 16738.0957\n",
      "Epoch 3/5\n",
      "938/938 - 8s - loss: 16552.7812 - val_loss: 16525.4883\n",
      "Epoch 4/5\n",
      "938/938 - 12s - loss: 16395.5391 - val_loss: 16431.7656\n",
      "Epoch 5/5\n",
      "938/938 - 10s - loss: 16368.8564 - val_loss: 16417.6152\n"
     ]
    }
   ],
   "source": [
    "# then with the simpler \n",
    "x_train2 = x_train.map(lambda t:(t,t))\n",
    "x_test2 = x_test.map(lambda t:(t,t))\n",
    "\n",
    "# Define the prior p(x)\n",
    "prior2 = tfd.MultivariateNormalDiag(loc=tf.zeros(latent_size))\n",
    "\n",
    "# Define the encoding distribution, q(z|x)\n",
    "latent_size = 2\n",
    "event_shape = (28,28)\n",
    "\n",
    "divergence_regularizer = tfpl.KLDivergenceRegularizer(prior,\n",
    "                                        use_exact_kl=False,\n",
    "                                        weight = 1.5 ,\n",
    "                                        test_points_fn = lambda q: q.sample(5),\n",
    "                                        test_points_reduce_axis =0) \n",
    "\n",
    "\n",
    "encoder2 =Sequential([Flatten(input_shape=event_shape),\n",
    "               Dense(128,activation='relu'),\n",
    "               Dense(64,activation='relu'),\n",
    "               Dense(32,activation='relu'),\n",
    "               Dense(16,activation='relu'),\n",
    "               Dense(tfpl.MultivariateNormalTriL.params_size(latent_size)),\n",
    "               tfpl.MultivariateNormalTriL(latent_size,activity_regularizer = divergence_regularizer)\n",
    "#              , tfpl.KLDivergenceAddLoss(prior) #estimates  KL(q(z|x) || p(z))             \n",
    "  ],name='encoder2')\n",
    "\n",
    "decoder2 =Sequential([\n",
    "               Dense(32,activation='relu',input_shape=[latent_size,]),\n",
    "               Dense(64,activation='relu'),\n",
    "               Dense(128,activation='relu'),\n",
    "               Dense(256,activation='relu'),\n",
    "               Dense(tfpl.IndependentBernoulli.params_size(event_shape)),\n",
    "               tfpl.IndependentBernoulli(event_shape)\n",
    "            \n",
    "  ],name='decoder2')\n",
    "\n",
    "def loss2(y_true,y_pred):\n",
    "  return -tf.reduce_sum(y_pred.log_prob(y_true))\n",
    "\n",
    "vae2 = Model(inputs=encoder2.inputs,outputs=decoder2(encoder2.outputs))\n",
    "vae2.compile(optimizer='Adam',loss=loss2)\n",
    "history = vae2.fit(x_train2,validation_data=x_test2,epochs=5,verbose=2)"
   ]
  },
  {
   "cell_type": "markdown",
   "metadata": {},
   "source": [
    "### Plot the loss and validation loss"
   ]
  },
  {
   "cell_type": "code",
   "execution_count": 14,
   "metadata": {},
   "outputs": [
    {
     "data": {
      "image/png": "[encoded data removed]",
      "text/plain": [
       "<Figure size 432x288 with 1 Axes>"
      ]
     },
     "metadata": {
      "needs_background": "light"
     },
     "output_type": "display_data"
    }
   ],
   "source": [
    "plt.plot(history.history['loss'])\n",
    "plt.plot(history.history['val_loss'])\n",
    "plt.title('Loss vs. epochs',fontsize=18)\n",
    "plt.ylabel('Loss')\n",
    "plt.xlabel('Epoch')\n",
    "plt.legend(['Training', 'Validation'], loc='upper right')\n",
    "\n",
    "plt.show()"
   ]
  },
  {
   "cell_type": "markdown",
   "metadata": {},
   "source": [
    "### Plot images and their reconstructions"
   ]
  },
  {
   "cell_type": "code",
   "execution_count": 15,
   "metadata": {},
   "outputs": [
    {
     "data": {
      "image/png": "[encoded data removed]",
      "text/plain": [
       "<Figure size 1152x360 with 12 Axes>"
      ]
     },
     "metadata": {
      "needs_background": "light"
     },
     "output_type": "display_data"
    }
   ],
   "source": [
    "example_x =  x_test_raw[:6]\n",
    "\n",
    "example_reconstruction = vae(example_x).mean().numpy()\n",
    "\n",
    "\n",
    "f, axs = plt.subplots(2, 6, figsize=(16, 5))\n",
    "\n",
    "for j in range(6):\n",
    "    axs[0, j].imshow(example_x[j, :, :].squeeze(), cmap='binary')\n",
    "    axs[1, j].imshow(example_reconstruction[j, :, :], cmap='binary')\n",
    "    axs[0, j].axis('off')\n",
    "    axs[1, j].axis('off')"
   ]
  },
  {
   "cell_type": "markdown",
   "metadata": {},
   "source": [
    "### Plot synthetic images"
   ]
  },
  {
   "cell_type": "code",
   "execution_count": 18,
   "metadata": {},
   "outputs": [
    {
     "data": {
      "image/png": "[encoded data removed]",
      "text/plain": [
       "<Figure size 1152x360 with 10 Axes>"
      ]
     },
     "metadata": {
      "needs_background": "light"
     },
     "output_type": "display_data"
    }
   ],
   "source": [
    "synthetic = prior.sample(10)\n",
    "synthetic_image = decoder(synthetic).mean().numpy()\n",
    "\n",
    "\n",
    "f, axs = plt.subplots(1, 10, figsize=(16, 5))\n",
    "\n",
    "for j in range(10):\n",
    "    axs[j].imshow(synthetic_image[j, :, :].squeeze(), cmap='binary')\n",
    "    axs[j].axis('off')\n",
    "\n"
   ]
  },
  {
   "cell_type": "code",
   "execution_count": null,
   "metadata": {},
   "outputs": [],
   "source": []
  }
 ],
 "metadata": {
  "kernelspec": {
   "display_name": "Python 3",
   "language": "python",
   "name": "python3"
  },
  "language_info": {
   "codemirror_mode": {
    "name": "ipython",
    "version": 3
   },
   "file_extension": ".py",
   "mimetype": "text/x-python",
   "name": "python",
   "nbconvert_exporter": "python",
   "pygments_lexer": "ipython3",
   "version": "3.7.6"
  }
 },
 "nbformat": 4,
 "nbformat_minor": 4
}
