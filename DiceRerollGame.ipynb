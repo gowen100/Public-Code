{
 "cells": [
  {
   "cell_type": "code",
   "execution_count": 1,
   "id": "2d0e9079-6352-4431-ae0f-f57bd02fad7c",
   "metadata": {},
   "outputs": [],
   "source": [
    "import random\n",
    "import numpy as np\n",
    "import pandas as pd\n",
    "import time\n",
    "import matplotlib.pyplot as plt\n",
    "import sympy as sy\n",
    "from IPython.display import Markdown, display,IFrame"
   ]
  },
  {
   "cell_type": "code",
   "execution_count": 2,
   "id": "e7cc5714-0344-4575-bbbd-20ee621d9601",
   "metadata": {},
   "outputs": [],
   "source": [
    "#https://www.glassdoor.co.uk/Interview/Game1-a-dice-roll-with-a-100-faces-dice-labeled-from-1-to-100-1- \n",
    "#                                  You-get-to-roll-once-and-receive-the-amount-of-dolla-QTN_1101123.htm\n",
    "#https://math.stackexchange.com/questions/2078312/roll-a-dice-infinite-times-but-pay-1-to-play-strategy"
   ]
  },
  {
   "cell_type": "code",
   "execution_count": 3,
   "id": "10a50a53-91f2-4ff1-8ee5-b26b184fba1c",
   "metadata": {},
   "outputs": [
    {
     "name": "stdout",
     "output_type": "stream",
     "text": [
      "Game expectation if reroll >=k\n",
      "(k**2 + k - n**2 - n - 2)/(2*(k - n - 1))\n",
      "\n",
      "Maximise expectation\n",
      "-sqrt(2)*sqrt(n) + n + 1\n",
      "\n",
      "Optimum reroll for n =100\n",
      "101 - 10*sqrt(2) = 86.8578643762690\n",
      "\n",
      "Substitute in to solve\n",
      "\n",
      "Reroll at 86 expectation is 87.3333333333333\n",
      "Reroll at 87 expectation is 87.3571428571429\n",
      "Reroll at 88 expectation is 87.3076923076923\n"
     ]
    }
   ],
   "source": [
    "n,k= sy.symbols('n k')\n",
    "f = sy.Function('f') \n",
    "p = sy.Function('p') \n",
    "e = sy.Function('e') \n",
    "\n",
    "eq1 = sy.Eq(p(n,k), (n+1-k)/n) # probability n >= k\n",
    "eq2 = sy.Eq(e(n,k), (n + k)/2) # expectation of n if n >= k\n",
    "\n",
    "# expectation of game if reroll when >=k \n",
    "# prob of rolling >=k  * expectation \n",
    "# prob of not rolling >=k * expectation of next roll (expectation of game -1)\n",
    "eq3 = sy.Eq(f(n,k),\n",
    "            p(n,k)*e(n,k)+(1-p(n,k))*(f(n,k)-1)) \n",
    "\n",
    "ans1 = sy.solve([eq1,eq2,eq3])[0][f(n,k)]\n",
    "print(\"Game expectation if reroll >=k\")\n",
    "print(ans1)\n",
    "\n",
    "print(\"\\nMaximise expectation\")\n",
    "ans2 = sy.solve(sy.diff(ans1,k),k)[0]\n",
    "print(ans2)\n",
    "\n",
    "print(\"\\nOptimum reroll for n =100\")\n",
    "solve_k = ans2.subs(n,100)\n",
    "print(solve_k,\"=\",solve_k.evalf())\n",
    "\n",
    "print(\"\\nSubstitute in to solve\\n\")\n",
    "\n",
    "for i in range(86,89):\n",
    "    print(\"Reroll at {} expectation is {}\".format(i,ans1.evalf(subs={n:100, k:i})))\n"
   ]
  },
  {
   "cell_type": "code",
   "execution_count": 4,
   "id": "7f008051-8a40-4f10-859d-e836f7845bcd",
   "metadata": {},
   "outputs": [],
   "source": [
    "#simulation and exact solution\n",
    "\n",
    "def roll(reroll=50):    \n",
    "    die = random.randint(1,100)\n",
    "    n = 0\n",
    "    while die < reroll:\n",
    "        n += 1\n",
    "        die = random.randint(1,100)\n",
    "    return die - n\n",
    "\n",
    "def expect(n,k):\n",
    "    return (k**2+k-n**2-n-2)/(2*(k-n-1))"
   ]
  },
  {
   "cell_type": "code",
   "execution_count": 5,
   "id": "60ebd86b-121c-4917-b6e1-4b16c2398dc8",
   "metadata": {},
   "outputs": [
    {
     "data": {
      "image/png": "[encoded data removed]",
      "text/plain": [
       "<Figure size 640x480 with 1 Axes>"
      ]
     },
     "metadata": {},
     "output_type": "display_data"
    }
   ],
   "source": [
    "#plot\n",
    "N =10000\n",
    "for r in range(1,99):\n",
    "    plt.plot(r,sum([roll(r) for i in range(N)])/N,\"r.\",markersize=2)\n",
    "    plt.plot(r,expect(100,r),\"g.\",markersize=2)    \n",
    "plt.show()"
   ]
  },
  {
   "cell_type": "code",
   "execution_count": null,
   "id": "ebc67192-07e1-4fb5-ac3a-ac80fe77ebb3",
   "metadata": {},
   "outputs": [],
   "source": []
  }
 ],
 "metadata": {
  "kernelspec": {
   "display_name": "Python 3",
   "language": "python",
   "name": "python3"
  },
  "language_info": {
   "codemirror_mode": {
    "name": "ipython",
    "version": 3
   },
   "file_extension": ".py",
   "mimetype": "text/x-python",
   "name": "python",
   "nbconvert_exporter": "python",
   "pygments_lexer": "ipython3",
   "version": "3.7.10"
  }
 },
 "nbformat": 4,
 "nbformat_minor": 5
}
