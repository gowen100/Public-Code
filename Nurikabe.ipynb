{
 "cells": [
  {
   "cell_type": "code",
   "execution_count": 32,
   "id": "9abb0753-1a84-452c-884f-48fed1a4675c",
   "metadata": {},
   "outputs": [],
   "source": [
    "import numpy as np\n",
    "import pandas as pd\n",
    "import time\n",
    "import seaborn as sns\n",
    "import matplotlib.pyplot as plt\n",
    "import itertools\n",
    "from skimage.morphology import label\n",
    "from z3 import *"
   ]
  },
  {
   "cell_type": "code",
   "execution_count": 33,
   "id": "877492dd-51ae-4fcb-89a7-27c1bfa3cd8c",
   "metadata": {},
   "outputs": [],
   "source": [
    "# got the floating islands fixed. Not the continuous see though !"
   ]
  },
  {
   "cell_type": "code",
   "execution_count": 34,
   "id": "27d1eecd-6afc-43c9-ba0e-fadb2b0e4a42",
   "metadata": {},
   "outputs": [],
   "source": [
    "def neighbours(i,j,N):\n",
    "    return [[i+x,j+y] for (x,y) in [(-1,0),(0,-1),(1,0),(0,1)] if i+x>=0 and i+x <N and j+y>=0 and j+y <N ]\n",
    "    \n",
    "def pr(ans,fix):\n",
    "    n = fix.shape\n",
    "    annot = fix.astype('str')\n",
    "    annot[annot==\"0\"] =\"\"\n",
    "    fig,ax = plt.subplots(1,1,figsize=(n[0]/3,n[1]/3))\n",
    "    ax =sns.heatmap(ans !=0,annot=annot,cbar=False,cmap=\"Greys_r\",fmt=\"\",linewidths=1,annot_kws={\"size\":14},linecolor='k')\n",
    "    ax.axis(\"off\")\n",
    "    plt.show()"
   ]
  },
  {
   "cell_type": "code",
   "execution_count": 53,
   "id": "6f08632d-3d0a-44fc-a054-535f518b4705",
   "metadata": {},
   "outputs": [],
   "source": [
    "def sol(fix,tactic):\n",
    "    start= time.time()\n",
    "    N = fix.shape[0]\n",
    "    C = int(np.sum(fix!=0))\n",
    "    roots = [[i,j,e] for (i,j),e in np.ndenumerate(fix) if e !=0]\n",
    "    \n",
    "    s = Tactic(tactic).solver()   \n",
    "    # Island Number\n",
    "    X = np.array(IntVector('x', N**2),dtype=object).reshape(N,N)\n",
    "    # order number in island tree\n",
    "    Y = np.array(IntVector('y', N**2),dtype=object).reshape(N,N)\n",
    "        \n",
    "   \n",
    "    # limit the grid values to 0 (black) or the island\n",
    "    s += [And(e>= 0 ,e <=C) for (i,j),e in np.ndenumerate(X)]\n",
    "    s += [And(e>= 0 ,e <=int(np.max(fix))) for (i,j),e in np.ndenumerate(Y)]\n",
    "        \n",
    "    # set the island values for each root\n",
    "    s += [X[a,b] == n+1 for n,[a,b,x] in enumerate(roots)]\n",
    "    s += [Y[a,b] == int(x) for n,[a,b,x] in enumerate(roots)]\n",
    "    \n",
    "    # make sure the size of each island is correct\n",
    "    s += [PbEq([(e==n+1,1) for (i,j),e in np.ndenumerate(X)],x) for n,[a,b,x] in enumerate(roots)]\n",
    "    \n",
    "    # no 2x2 black\n",
    "    s += [Implies(e== 0,Or(X[i+1,j] !=0,X[i,j+1] !=0,X[i+1,j+1] !=0)) for (i,j),e in np.ndenumerate(X) if i<N-1 and j<N-1]  \n",
    "    \n",
    "    # islands don't touch\n",
    "    s += [Implies(e > 0,And([Or(X[x,y]==e,X[x,y]==0) for x,y in neighbours(i,j,N)])) for (i,j),e in np.ndenumerate(X)]\n",
    "   \n",
    "    # Define a variable to determine if there is an edge between 2 cells\n",
    "    edge = {}\n",
    "    for i in range(N):\n",
    "        for j in range(N):  \n",
    "            for (k,l) in neighbours(i,j,N) :\n",
    "                edge[(i,j,k,l)] = Int(\"e%d%d%d%d\" % (i,j,k,l))\n",
    "                s += Or(edge[(i,j,k,l)] ==0,edge[(i,j,k,l)]==1) \n",
    "                \n",
    "    for i in range(N):\n",
    "        for j in range(N):  \n",
    "            for (k,l) in neighbours(i,j,N):\n",
    "                # Make edges one way to form a tree\n",
    "                s += (edge[(i,j,k,l)] + edge[(k,l,i,j)]) <= 1\n",
    "                # Cells with an edge have the same value\n",
    "                s +=Implies(edge[(k,l,i,j)] == 1,X[i,j] == X[k,l])\n",
    "    \n",
    "    # only one edge into each cell\n",
    "        for i in range(N):\n",
    "            for j in range(N):  \n",
    "                # only one edge into each cell\n",
    "                s += Sum([edge[(k,l,i,j)] for (k,l) in neighbours(i,j,N) ]) <=1\n",
    "                # root cells have no feeds in\n",
    "                s += Implies(int(fix[i,j]) !=0, Sum([edge[(k,l,i,j)] for (k,l) in neighbours(i,j,N) ]) == 0)\n",
    "                # root cells > 1 feed out\n",
    "                s += Implies(int(fix[i,j]) >1, Sum([edge[(i,j,k,l)] for (k,l) in neighbours(i,j,N) ]) >= 1)\n",
    "                #filled cells have a feed in\n",
    "                s+= Implies(X[i,j] !=0 , Or(Sum([edge[(k,l,i,j)] for (k,l) in neighbours(i,j,N)]) == 1,int(fix[i,j]) !=0))\n",
    "                # edges give decreasing numbers or islands\n",
    "                s += [Implies(And(X[i,j]!=0,edge[(i,j,k,l)]==1),Y[i,j] > Y[k,l]) for (k,l) in neighbours(i,j,N) ]\n",
    "                #all cells are connected\n",
    "                s += Implies(X[i,j]==0,Or([X[k,l]==0  for k,l in neighbours(i,j,N)]))\n",
    "                # zero cells have a feed in or out\n",
    "                s += Implies(X[i,j] == 0, Sum([edge[(i,j,k,l)]+edge[(k,l,i,j)] for (k,l) in neighbours(i,j,N) ]) > 0 )\n",
    "                # only one cell with no feed in\n",
    "                #s += PbEq([(And(X[i,j] ==0,Sum([edge[(k,l,i,j)] for (k,l) in neighbours(i,j,N) ]) == 0),1) for i in range(N) for k in range(N)],1)\n",
    "                \n",
    "                \n",
    "    # zero cells have island order zero\n",
    "    s += [Implies(e==0,Y[i,j]==0) for (i,j),e in np.ndenumerate(X)]\n",
    "    \n",
    "\n",
    "    \n",
    "    counter = 0\n",
    "    while s.check() == sat:\n",
    "        counter +=1\n",
    "        print(counter,end=\" \")                     \n",
    "        m = s.model()\n",
    "        evalu = np.vectorize(lambda x:m.evaluate(x).as_long())\n",
    "        r =  evalu(X)\n",
    "        if np.max(label(r== 0,connectivity=1)) == 1:\n",
    "            print(\"{}: {} Solved in {:.4f} seconds\".format(tactic,tactic_description(tactic),time.time()-start))\n",
    "            y =  evalu(Y)\n",
    "            pr(r,fix)\n",
    "            print(y)\n",
    "            return r,y\n",
    "        else:\n",
    "            s += Or([e!=int(r[i,j]) for (i,j),e in np.ndenumerate(X) ])                     \n",
    "    else:\n",
    "        print(\"fail\")    "
   ]
  },
  {
   "cell_type": "code",
   "execution_count": 54,
   "id": "c5a7b203-548e-470f-a8d4-ed58132f1515",
   "metadata": {},
   "outputs": [
    {
     "name": "stdout",
     "output_type": "stream",
     "text": [
      "1 2 3 4 5 6 7 default: default strategy used when no logic is specified. Solved in 1.8664 seconds\n"
     ]
    },
    {
     "data": {
      "image/png": "[encoded data removed]",
      "text/plain": [
       "<Figure size 144x144 with 1 Axes>"
      ]
     },
     "metadata": {
      "needs_background": "light"
     },
     "output_type": "display_data"
    },
    {
     "name": "stdout",
     "output_type": "stream",
     "text": [
      "[[0 0 1 2 3 4]\n",
      " [0 1 0 0 0 5]\n",
      " [0 2 0 1 3 0]\n",
      " [0 0 0 0 0 0]\n",
      " [2 0 1 0 0 0]\n",
      " [1 0 5 3 2 1]]\n"
     ]
    }
   ],
   "source": [
    "fix= np.array([[0, 0, 0, 0, 0, 0],\n",
    "               [0, 0, 0, 0, 0, 5],\n",
    "               [0, 2, 0, 0, 3, 0],\n",
    "               [0, 0, 0, 0, 0, 0],\n",
    "               [2, 0, 0, 0, 0, 0],\n",
    "               [0, 0, 5, 0, 0, 0]])\n",
    "\n",
    "ans,y = sol(fix,\"default\")\n"
   ]
  },
  {
   "cell_type": "code",
   "execution_count": 55,
   "id": "a9e003af-47f9-4de7-884b-2bee45aa0403",
   "metadata": {},
   "outputs": [
    {
     "name": "stdout",
     "output_type": "stream",
     "text": [
      "1 2 pqffd: builtin strategy for solving QF_FD problems in parallel. Solved in 3.9421 seconds\n"
     ]
    },
    {
     "data": {
      "image/png": "[encoded data removed]",
      "text/plain": [
       "<Figure size 240x240 with 1 Axes>"
      ]
     },
     "metadata": {
      "needs_background": "light"
     },
     "output_type": "display_data"
    },
    {
     "name": "stdout",
     "output_type": "stream",
     "text": [
      "[[1 0 1 2 4 0 1 4 0 2]\n",
      " [0 0 0 0 0 0 1 2 0 1]\n",
      " [0 1 0 0 0 2 0 0 0 0]\n",
      " [0 0 1 0 0 0 1 0 0 2]\n",
      " [1 0 0 0 2 3 0 0 0 0]\n",
      " [0 0 6 0 0 0 0 3 4 5]\n",
      " [0 2 4 1 0 0 1 2 0 0]\n",
      " [0 1 0 0 0 1 0 0 0 2]\n",
      " [0 0 0 1 2 0 0 2 0 0]\n",
      " [0 0 0 0 0 0 0 0 0 0]]\n"
     ]
    }
   ],
   "source": [
    "fix2= np.array([[1, 0, 0, 0, 4, 0, 0, 4, 0, 2],\n",
    "                [0, 0, 0, 0, 0, 0, 0, 0, 0, 0],\n",
    "                [0, 1, 0, 0, 0, 2, 0, 0, 0, 0],\n",
    "                [0, 0, 1, 0, 0, 0, 1, 0, 0, 2],\n",
    "                [1, 0, 0, 0, 0, 3, 0, 0, 0, 0],\n",
    "                [0, 0, 6, 0, 0, 0, 0, 0, 0, 5],\n",
    "                [0, 0, 0, 0, 0, 0, 0, 0, 0, 0],\n",
    "                [0, 0, 0, 0, 0, 1, 0, 0, 0, 2],\n",
    "                [0, 0, 0, 0, 2, 0, 0, 2, 0, 0],\n",
    "                [0, 0, 0, 0, 0, 0, 0, 0, 0, 0]])\n",
    "\n",
    "\n",
    "ans = sol(fix2,\"pqffd\")"
   ]
  },
  {
   "cell_type": "code",
   "execution_count": 56,
   "id": "37043b0c-6022-4d9d-9e25-50b657905b64",
   "metadata": {},
   "outputs": [
    {
     "name": "stdout",
     "output_type": "stream",
     "text": [
      "1 2 3 4 5 6 7 8 9 10 11 12 13 14 15 16 17 18 19 20 21 22 23 24 25 26 27 28 29 30 31 32 33 34 35 36 37 38 39 40 41 42 43 44 45 46 47 48 49 50 51 52 53 54 55 56 57 58 59 60 61 62 63 64 65 66 67 68 69 70 71 72 73 74 75 76 77 78 79 80 81 82 83 84 85 86 87 88 89 90 91 92 93 94 95 96 97 98 99 100 101 102 103 104 105 106 107 pqffd: builtin strategy for solving QF_FD problems in parallel. Solved in 139.6812 seconds\n"
     ]
    },
    {
     "data": {
      "image/png": "[encoded data removed]",
      "text/plain": [
       "<Figure size 240x240 with 1 Axes>"
      ]
     },
     "metadata": {
      "needs_background": "light"
     },
     "output_type": "display_data"
    },
    {
     "name": "stdout",
     "output_type": "stream",
     "text": [
      "[[ 0  0  0  2  0  0  3  2  0  2]\n",
      " [ 0  0  2  0  0  0  0  0  0  1]\n",
      " [ 2  0  0  0  2  3  5  0  0  0]\n",
      " [ 0  0  0  0  0  2  0  0  0  0]\n",
      " [ 0  0  1  0  0  0  0  0  1  0]\n",
      " [ 0  0  2  0  0  5  4  3  2  0]\n",
      " [ 0  0  6  0  7  6  0  0  0  0]\n",
      " [ 3  0  7  0  8  0  2  0  0  0]\n",
      " [ 2  0  8  0  9  0  0  0  0  1]\n",
      " [ 0  0  0 12 10  0  6  5  3  2]]\n"
     ]
    }
   ],
   "source": [
    "fix3=np.array([[0, 0, 0, 2, 0, 0, 3, 0, 0, 2],\n",
    "               [0, 0, 2, 0, 0, 0, 0, 0, 0, 0],\n",
    "               [2, 0, 0, 0, 0, 0, 5, 0, 0, 0],\n",
    "               [0, 0, 0, 0, 0, 0, 0, 0, 0, 0],\n",
    "               [0, 0, 0, 0, 0, 0, 0, 0, 0, 0],\n",
    "               [0, 0, 0, 0, 0, 0, 0, 0, 0, 0],\n",
    "               [0, 0, 0, 0, 0, 0, 0, 0, 0, 0],\n",
    "               [3, 0, 0, 0, 0, 0, 2, 0, 0, 0],\n",
    "               [0, 0, 8, 0, 0, 0, 0, 0, 0, 0],\n",
    "               [0, 0, 0,12, 0, 0, 6, 0, 0, 0]])\n",
    "\n",
    "ans = sol(fix3,\"pqffd\")"
   ]
  },
  {
   "cell_type": "code",
   "execution_count": null,
   "id": "7f716528-45e7-44c2-9384-6d6ec38a4d3d",
   "metadata": {},
   "outputs": [],
   "source": []
  },
  {
   "cell_type": "code",
   "execution_count": null,
   "id": "481333de-9887-4c1e-8b42-5bd63243d989",
   "metadata": {},
   "outputs": [],
   "source": [
    "\n",
    "  "
   ]
  }
 ],
 "metadata": {
  "kernelspec": {
   "display_name": "Python 3",
   "language": "python",
   "name": "python3"
  },
  "language_info": {
   "codemirror_mode": {
    "name": "ipython",
    "version": 3
   },
   "file_extension": ".py",
   "mimetype": "text/x-python",
   "name": "python",
   "nbconvert_exporter": "python",
   "pygments_lexer": "ipython3",
   "version": "3.7.10"
  }
 },
 "nbformat": 4,
 "nbformat_minor": 5
}
