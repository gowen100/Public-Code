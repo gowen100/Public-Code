{
 "cells": [
  {
   "cell_type": "code",
   "execution_count": 1,
   "id": "9abb0753-1a84-452c-884f-48fed1a4675c",
   "metadata": {},
   "outputs": [],
   "source": [
    "import numpy as np\n",
    "import pandas as pd\n",
    "import time\n",
    "import seaborn as sns\n",
    "import matplotlib.pyplot as plt\n",
    "import itertools\n",
    "import requests\n",
    "import ast\n",
    "import random\n",
    "\n",
    "from skimage.morphology import label\n",
    "from bs4 import BeautifulSoup\n",
    "from z3 import *\n",
    "\n",
    "# very close. Still fails on the bigger matrices."
   ]
  },
  {
   "cell_type": "code",
   "execution_count": 2,
   "id": "27d1eecd-6afc-43c9-ba0e-fadb2b0e4a42",
   "metadata": {},
   "outputs": [],
   "source": [
    "def neighbours(i,j,N):\n",
    "    return [[i+x,j+y] for (x,y) in [(-1,0),(0,-1),(1,0),(0,1)] if i+x>=0 and i+x <N and j+y>=0 and j+y <N ]\n",
    "\n",
    "def pr(ans,fix,edge):\n",
    "    n = fix.shape\n",
    "    annot = fix.astype('str')\n",
    "    annot[annot==\"0\"] =\"\"\n",
    "    fig,ax = plt.subplots(1,1,figsize=(n[0]/3,n[1]/3))\n",
    "    ax =sns.heatmap(ans !=0,annot=annot,cbar=False,cmap=\"Greys_r\",fmt=\"\",linewidths=1,annot_kws={\"size\":14},linecolor='k')\n",
    "    for (y,x,b,a) in edge:\n",
    "        plt.arrow(x+0.5,y+0.5,a-x,b-y,color=\"r\",head_width=0.25,head_length=0.25,length_includes_head=True,alpha=0.5)\n",
    "    ax.axis(\"off\")\n",
    "    plt.show()"
   ]
  },
  {
   "cell_type": "code",
   "execution_count": 3,
   "id": "54204733-31ca-4410-9157-9a81a709e49a",
   "metadata": {},
   "outputs": [],
   "source": [
    "def sol(fix,tactic):\n",
    "    start= time.time()\n",
    "    N = fix.shape[0]\n",
    "    C = int(np.sum(fix!=0))\n",
    "    roots = [[i,j,e] for (i,j),e in np.ndenumerate(fix) if e !=0]\n",
    "    \n",
    "    s = Tactic(tactic).solver()   \n",
    "    # Island Number\n",
    "    X = np.array(IntVector('x', N**2),dtype=object).reshape(N,N)\n",
    "    # order number in island tree\n",
    "    Y = np.array(IntVector('y', N**2),dtype=object).reshape(N,N)\n",
    "    # order number in sea\n",
    "    Z = np.array(IntVector('z', N**2),dtype=object).reshape(N,N)\n",
    "        \n",
    "   \n",
    "    # limit the grid values to 0 (black) or the island\n",
    "    s += [And(e>= 0 ,e <=C) for (i,j),e in np.ndenumerate(X)]\n",
    "    s += [And(e>= 0 ,e <=int(np.max(fix))) for (i,j),e in np.ndenumerate(Y)]\n",
    "    s += [And(e>= 0 ,e <=int(N**2)) for (i,j),e in np.ndenumerate(Z)]\n",
    "        \n",
    "    # set the island values for each root\n",
    "    s += [X[a,b] == n+1 for n,[a,b,x] in enumerate(roots)]\n",
    "    s += [Y[a,b] == int(x) for n,[a,b,x] in enumerate(roots)]\n",
    "    \n",
    "    # make sure the size of each island is correct\n",
    "    s += [PbEq([(e==n+1,1) for (i,j),e in np.ndenumerate(X)],x) for n,[a,b,x] in enumerate(roots)]\n",
    "    \n",
    "    # no 2x2 black\n",
    "    s += [Implies(e== 0,Or(X[i+1,j] !=0,X[i,j+1] !=0,X[i+1,j+1] !=0)) for (i,j),e in np.ndenumerate(X) if i<N-1 and j<N-1]  \n",
    "    \n",
    "    # islands don't touch\n",
    "    s += [Implies(e > 0,And([Or(X[x,y]==e,X[x,y]==0) for x,y in neighbours(i,j,N)])) for (i,j),e in np.ndenumerate(X)]\n",
    "   \n",
    "    # Define a variable to determine if there is an edge between 2 cells\n",
    "    edge = {}\n",
    "    for i in range(N):\n",
    "        for j in range(N):  \n",
    "            for (k,l) in neighbours(i,j,N) :\n",
    "                edge[(i,j,k,l)] = Int(\"e%d%d%d%d\" % (i,j,k,l))\n",
    "                s += Or(edge[(i,j,k,l)] ==0,edge[(i,j,k,l)]==1) \n",
    "                \n",
    "    for i in range(N):\n",
    "        for j in range(N):  \n",
    "            for (k,l) in neighbours(i,j,N):\n",
    "                # Make edges one way to form a tree\n",
    "                s += (edge[(i,j,k,l)] + edge[(k,l,i,j)]) <= 1\n",
    "                # Cells with an edge have the same value\n",
    "                s +=Implies(edge[(k,l,i,j)] == 1,X[i,j] == X[k,l])\n",
    "    \n",
    "    # only one edge into each cell\n",
    "        for i in range(N):\n",
    "            for j in range(N):  \n",
    "                # only one edge into each cell\n",
    "                s += Sum([edge[(k,l,i,j)] for (k,l) in neighbours(i,j,N) ]) <=1\n",
    "                # root cells have no feeds in\n",
    "                s += Implies(int(fix[i,j]) !=0, Sum([edge[(k,l,i,j)] for (k,l) in neighbours(i,j,N) ]) == 0)\n",
    "                # root cells > 1 feed out\n",
    "                s += Implies(int(fix[i,j]) >1, Sum([edge[(i,j,k,l)] for (k,l) in neighbours(i,j,N) ]) >= 1)\n",
    "                #filled cells have a feed in\n",
    "                s+= Implies(X[i,j] !=0 , Or(Sum([edge[(k,l,i,j)] for (k,l) in neighbours(i,j,N)]) == 1,int(fix[i,j]) !=0))\n",
    "                # edges give decreasing numbers for islands\n",
    "                s += [Implies(And(X[i,j]!=0,edge[(i,j,k,l)]==1),Y[i,j] > Y[k,l]) for (k,l) in neighbours(i,j,N)]\n",
    "                s += [Implies(And(X[i,j]==0,edge[(i,j,k,l)]==1),Z[i,j] > Z[k,l]) for (k,l) in neighbours(i,j,N)]\n",
    "                #all cells are connected\n",
    "                s += Implies(X[i,j]==0,Or([X[k,l]==0  for k,l in neighbours(i,j,N)]))\n",
    "                # zero cells have a feed in or out\n",
    "                s += Implies(X[i,j] == 0, Sum([edge[(i,j,k,l)]+edge[(k,l,i,j)] for (k,l) in neighbours(i,j,N) ]) > 0 )\n",
    "                \n",
    "    # zero cells have island order zero\n",
    "    s += [Implies(e==0,Y[i,j]==0) for (i,j),e in np.ndenumerate(X)]\n",
    "    s += [Implies(e!=0,Z[i,j]==0) for (i,j),e in np.ndenumerate(X)]\n",
    "    \n",
    "    # only one river cell with no feed in\n",
    "    s += PbEq([(And(X[i,j] == 0,Sum([edge[(k,l,i,j)] for (k,l) in neighbours(i,j,N) ]) == 0),1) for i in range(N) for j in range(N)],1)\n",
    "    \n",
    "    while s.check() == sat:                \n",
    "        m = s.model()\n",
    "        evalu = np.vectorize(lambda x:m.evaluate(x).as_long())\n",
    "        r =  evalu(X)\n",
    "        # check sea connectivity\n",
    "        if np.max(label(r== 0,connectivity=1)) == 1:\n",
    "            print(\"{}: {} Solved in {:.4f} seconds\".format(tactic,tactic_description(tactic),time.time()-start))\n",
    "            pr(r,fix,[i for i in edge if evalu(edge[i]) ==1])\n",
    "            return r\n",
    "        else:\n",
    "            s += Or([e!=int(r[i,j]) for (i,j),e in np.ndenumerate(X) ])                     \n",
    "    else:\n",
    "        print(\"fail\") "
   ]
  },
  {
   "cell_type": "code",
   "execution_count": 4,
   "id": "6ba7e5b3-17cc-460c-a5ce-663f14b6a23d",
   "metadata": {},
   "outputs": [
    {
     "name": "stdout",
     "output_type": "stream",
     "text": [
      "Random Pick is\n"
     ]
    },
    {
     "data": {
      "image/png": "[encoded data removed]",
      "text/plain": [
       "<Figure size 240x240 with 1 Axes>"
      ]
     },
     "metadata": {
      "needs_background": "light"
     },
     "output_type": "display_data"
    },
    {
     "name": "stdout",
     "output_type": "stream",
     "text": [
      "pqffd: builtin strategy for solving QF_FD problems in parallel. Solved in 4.7974 seconds\n"
     ]
    },
    {
     "data": {
      "image/png": "[encoded data removed]",
      "text/plain": [
       "<Figure size 240x240 with 1 Axes>"
      ]
     },
     "metadata": {
      "needs_background": "light"
     },
     "output_type": "display_data"
    }
   ],
   "source": [
    "# pick a random puzzle from ravenguild08's list\n",
    "#valid sizes are 5,7,10,12,15,20\n",
    "\n",
    "size = 10\n",
    "\n",
    "url = 'https://raw.githubusercontent.com/ravenguild08/nrkb/master/'+str(size)+'x'+str(size)+'.json'\n",
    "res = requests.get(url)\n",
    "soup = str(BeautifulSoup(res.content, 'html.parser'))\n",
    "puzzles = soup.split('\\n')\n",
    "\n",
    "to_solve = np.array(ast.literal_eval(random.choice(puzzles)))\n",
    "n = to_solve.shape\n",
    "\n",
    "#plot the  grid to solve\n",
    "print(\"Random Pick is\")\n",
    "annot = to_solve.astype('str')\n",
    "annot[annot==\"0\"] =\"\"\n",
    "fig,ax = plt.subplots(1,1,figsize=(n[0]/3,n[1]/3))\n",
    "ax =sns.heatmap(np.zeros_like(to_solve),annot=annot,cbar=False,cmap=\"Greys\",fmt=\"\",linewidths=1,annot_kws={\"size\":14},linecolor='k')\n",
    "ax.axis(\"off\")\n",
    "plt.show()\n",
    "\n",
    "\n",
    "#then solve\n",
    "_ = sol(to_solve,\"pqffd\")"
   ]
  },
  {
   "cell_type": "code",
   "execution_count": 5,
   "id": "c5a7b203-548e-470f-a8d4-ed58132f1515",
   "metadata": {},
   "outputs": [
    {
     "name": "stdout",
     "output_type": "stream",
     "text": [
      "pqffd: builtin strategy for solving QF_FD problems in parallel. Solved in 1.0193 seconds\n"
     ]
    },
    {
     "data": {
      "image/png": "[encoded data removed]",
      "text/plain": [
       "<Figure size 144x144 with 1 Axes>"
      ]
     },
     "metadata": {
      "needs_background": "light"
     },
     "output_type": "display_data"
    }
   ],
   "source": [
    "fix= np.array([[0, 0, 0, 0, 0, 0],\n",
    "               [0, 0, 0, 0, 0, 5],\n",
    "               [0, 2, 0, 0, 3, 0],\n",
    "               [0, 0, 0, 0, 0, 0],\n",
    "               [2, 0, 0, 0, 0, 0],\n",
    "               [0, 0, 5, 0, 0, 0]])\n",
    "\n",
    "ans = sol(fix,\"pqffd\")\n"
   ]
  },
  {
   "cell_type": "code",
   "execution_count": 6,
   "id": "a9e003af-47f9-4de7-884b-2bee45aa0403",
   "metadata": {},
   "outputs": [
    {
     "name": "stdout",
     "output_type": "stream",
     "text": [
      "pqffd: builtin strategy for solving QF_FD problems in parallel. Solved in 4.5857 seconds\n"
     ]
    },
    {
     "data": {
      "image/png": "[encoded data removed]",
      "text/plain": [
       "<Figure size 240x240 with 1 Axes>"
      ]
     },
     "metadata": {
      "needs_background": "light"
     },
     "output_type": "display_data"
    }
   ],
   "source": [
    "fix2= np.array([[1, 0, 0, 0, 4, 0, 0, 4, 0, 2],\n",
    "                [0, 0, 0, 0, 0, 0, 0, 0, 0, 0],\n",
    "                [0, 1, 0, 0, 0, 2, 0, 0, 0, 0],\n",
    "                [0, 0, 1, 0, 0, 0, 1, 0, 0, 2],\n",
    "                [1, 0, 0, 0, 0, 3, 0, 0, 0, 0],\n",
    "                [0, 0, 6, 0, 0, 0, 0, 0, 0, 5],\n",
    "                [0, 0, 0, 0, 0, 0, 0, 0, 0, 0],\n",
    "                [0, 0, 0, 0, 0, 1, 0, 0, 0, 2],\n",
    "                [0, 0, 0, 0, 2, 0, 0, 2, 0, 0],\n",
    "                [0, 0, 0, 0, 0, 0, 0, 0, 0, 0]])\n",
    "\n",
    "\n",
    "ans = sol(fix2,\"pqffd\")"
   ]
  },
  {
   "cell_type": "code",
   "execution_count": 7,
   "id": "37043b0c-6022-4d9d-9e25-50b657905b64",
   "metadata": {},
   "outputs": [
    {
     "name": "stdout",
     "output_type": "stream",
     "text": [
      "pqffd: builtin strategy for solving QF_FD problems in parallel. Solved in 5.8932 seconds\n"
     ]
    },
    {
     "data": {
      "image/png": "[encoded data removed]",
      "text/plain": [
       "<Figure size 240x240 with 1 Axes>"
      ]
     },
     "metadata": {
      "needs_background": "light"
     },
     "output_type": "display_data"
    }
   ],
   "source": [
    "fix3=np.array([[0, 0, 0, 2, 0, 0, 3, 0, 0, 2],\n",
    "               [0, 0, 2, 0, 0, 0, 0, 0, 0, 0],\n",
    "               [2, 0, 0, 0, 0, 0, 5, 0, 0, 0],\n",
    "               [0, 0, 0, 0, 0, 0, 0, 0, 0, 0],\n",
    "               [0, 0, 0, 0, 0, 0, 0, 0, 0, 0],\n",
    "               [0, 0, 0, 0, 0, 0, 0, 0, 0, 0],\n",
    "               [0, 0, 0, 0, 0, 0, 0, 0, 0, 0],\n",
    "               [3, 0, 0, 0, 0, 0, 2, 0, 0, 0],\n",
    "               [0, 0, 8, 0, 0, 0, 0, 0, 0, 0],\n",
    "               [0, 0, 0,12, 0, 0, 6, 0, 0, 0]])\n",
    "\n",
    "ans = sol(fix3,\"pqffd\")"
   ]
  },
  {
   "cell_type": "code",
   "execution_count": null,
   "id": "459cfc10-8a32-4d4c-8959-3cbfdc52feaf",
   "metadata": {},
   "outputs": [],
   "source": []
  }
 ],
 "metadata": {
  "kernelspec": {
   "display_name": "Python 3",
   "language": "python",
   "name": "python3"
  },
  "language_info": {
   "codemirror_mode": {
    "name": "ipython",
    "version": 3
   },
   "file_extension": ".py",
   "mimetype": "text/x-python",
   "name": "python",
   "nbconvert_exporter": "python",
   "pygments_lexer": "ipython3",
   "version": "3.7.10"
  }
 },
 "nbformat": 4,
 "nbformat_minor": 5
}
