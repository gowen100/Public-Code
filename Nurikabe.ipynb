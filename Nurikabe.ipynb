{
 "cells": [
  {
   "cell_type": "code",
   "execution_count": 1,
   "id": "9abb0753-1a84-452c-884f-48fed1a4675c",
   "metadata": {},
   "outputs": [],
   "source": [
    "import numpy as np\n",
    "import pandas as pd\n",
    "import time\n",
    "import seaborn as sns\n",
    "import matplotlib.pyplot as plt\n",
    "import itertools\n",
    "from z3 import *"
   ]
  },
  {
   "cell_type": "code",
   "execution_count": 2,
   "id": "877492dd-51ae-4fcb-89a7-27c1bfa3cd8c",
   "metadata": {},
   "outputs": [],
   "source": [
    "# got the floating islands fixed. Not the continuous see though !"
   ]
  },
  {
   "cell_type": "code",
   "execution_count": 3,
   "id": "27d1eecd-6afc-43c9-ba0e-fadb2b0e4a42",
   "metadata": {},
   "outputs": [],
   "source": [
    "def neighbours(i,j,N):\n",
    "    return [[i+x,j+y] for (x,y) in [(-1,0),(0,-1),(1,0),(0,1)] if i+x>=0 and i+x <N and j+y>=0 and j+y <N ]\n",
    "    \n",
    "def pr(ans,fix):\n",
    "    n = fix.shape\n",
    "    annot = fix.astype('str')\n",
    "    annot[annot==\"0\"] =\"\"\n",
    "    fig,ax = plt.subplots(1,1,figsize=(n[0]/3,n[1]/3))\n",
    "    ax =sns.heatmap(ans !=0,annot=annot,cbar=False,cmap=\"Greys_r\",fmt=\"\",linewidths=1,annot_kws={\"size\":14},linecolor='k')\n",
    "    ax.axis(\"off\")\n",
    "    plt.show()"
   ]
  },
  {
   "cell_type": "code",
   "execution_count": 35,
   "id": "6f08632d-3d0a-44fc-a054-535f518b4705",
   "metadata": {},
   "outputs": [],
   "source": [
    "def sol(fix,tactic):\n",
    "    start= time.time()\n",
    "    N = fix.shape[0]\n",
    "    C = int(np.sum(fix!=0))\n",
    "    roots = [[i,j,e] for (i,j),e in np.ndenumerate(fix) if e !=0]\n",
    "    \n",
    "    s = Tactic(tactic).solver()   \n",
    "    # Island Number\n",
    "    X = np.array(IntVector('x', N**2),dtype=object).reshape(N,N)\n",
    "    # order number in island tree\n",
    "    Y = np.array(IntVector('y', N**2),dtype=object).reshape(N,N)\n",
    "        \n",
    "   \n",
    "    # limit the grid values to 0 (black) or the island\n",
    "    s += [And(e>= 0 ,e <=C) for (i,j),e in np.ndenumerate(X)]\n",
    "    s += [And(e>= 0 ,e <=int(np.max(fix))) for (i,j),e in np.ndenumerate(Y)]\n",
    "        \n",
    "    # set the island values for each root\n",
    "    s += [X[a,b] == n+1 for n,[a,b,x] in enumerate(roots)]\n",
    "    s += [Y[a,b] == int(x) for n,[a,b,x] in enumerate(roots)]\n",
    "    \n",
    "    # make sure the size of each island is correct\n",
    "    s += [PbEq([(e==n+1,1) for (i,j),e in np.ndenumerate(X)],x) for n,[a,b,x] in enumerate(roots)]\n",
    "    \n",
    "    # no 2x2 black\n",
    "    s += [Implies(e== 0,Or(X[i+1,j] !=0,X[i,j+1] !=0,X[i+1,j+1] !=0)) for (i,j),e in np.ndenumerate(X) if i<N-1 and j<N-1]  \n",
    "    s += [Implies(e== 0,Or([X[k,l]==0 for k,l in neighbours(i,j,N)])) for (i,j),e in np.ndenumerate(X) if i<N and j<N]  \n",
    "    \n",
    "    # islands don't touch\n",
    "    s += [Implies(e > 0,And([Or(X[x,y]==e,X[x,y]==0) for x,y in neighbours(i,j,N)])) for (i,j),e in np.ndenumerate(X)]\n",
    "   \n",
    "    # Define a variable to determine if there is an edge between 2 cells\n",
    "    edge = {}\n",
    "    for i in range(N):\n",
    "        for j in range(N):  \n",
    "            for (k,l) in neighbours(i,j,N) :\n",
    "                edge[(i,j,k,l)] = Int(\"e%d%d%d%d\" % (i,j,k,l))\n",
    "                s += Or(edge[(i,j,k,l)] ==0,edge[(i,j,k,l)]==1) \n",
    "                \n",
    "    for i in range(N):\n",
    "        for j in range(N):  \n",
    "            for (k,l) in neighbours(i,j,N):\n",
    "                # Make edges one way to form a tree\n",
    "                s += (edge[(i,j,k,l)] + edge[(k,l,i,j)]) <= 1\n",
    "                # Cells with an edge have the same value\n",
    "                s +=Implies(edge[(k,l,i,j)] == 1,X[i,j] == X[k,l])\n",
    "    \n",
    "    # only one edge into each cell\n",
    "        for i in range(N):\n",
    "            for j in range(N):  \n",
    "                # only one edge into each cell\n",
    "                s += Sum([edge[(k,l,i,j)] for (k,l) in neighbours(i,j,N) ]) <=1\n",
    "                # root cells have no feeds in\n",
    "                s += Implies(int(fix[i,j]) !=0, Sum([edge[(k,l,i,j)] for (k,l) in neighbours(i,j,N) ]) == 0)\n",
    "                # root cells > 1 feed out\n",
    "                s += Implies(int(fix[i,j]) >1, Sum([edge[(i,j,k,l)] for (k,l) in neighbours(i,j,N) ]) == 1)\n",
    "                # filled cells have a feed in\n",
    "                s += Implies(X[i,j] != 0, Or(Sum([edge[(k,l,i,j)] for (k,l) in neighbours(i,j,N) ]) == 1,int(fix[i,j]) !=0 ))\n",
    "                # zero cells have no feed in or out\n",
    "                s += Implies(X[i,j] == 0, Sum([edge[(i,j,k,l)] for (k,l) in neighbours(i,j,N) ]) == 0 )\n",
    "                s += Implies(X[i,j] == 0, Sum([edge[(k,l,i,j)] for (k,l) in neighbours(i,j,N) ]) == 0 )\n",
    "                #edges give decreasing numbers\n",
    "                s += [Implies(edge[(i,j,k,l)]==1,Y[i,j] > Y[k,l]) for (k,l) in neighbours(i,j,N) ]\n",
    "                \n",
    "    # set orders\n",
    "    s += [Implies(e==0,Y[i,j]==0) for (i,j),e in np.ndenumerate(X)]\n",
    "  \n",
    "    if s.check() == sat:\n",
    "        m = s.model()\n",
    "        print(\"{}: {} Solved in {:.4f} seconds\".format(tactic,tactic_description(tactic),time.time()-start))\n",
    "        evalu = np.vectorize(lambda x:m.evaluate(x).as_long())\n",
    "        r =  evalu(X)\n",
    "        y =  evalu(Y)\n",
    "        pr(r,fix)\n",
    "        return r,y\n",
    "        #display([(v,evalu(edge[v]) for v in edge])\n",
    "    else:\n",
    "        print(\"fail\")    "
   ]
  },
  {
   "cell_type": "code",
   "execution_count": 36,
   "id": "c5a7b203-548e-470f-a8d4-ed58132f1515",
   "metadata": {},
   "outputs": [
    {
     "name": "stdout",
     "output_type": "stream",
     "text": [
      "default: default strategy used when no logic is specified. Solved in 0.6505 seconds\n"
     ]
    },
    {
     "data": {
      "image/png": "[encoded data removed]",
      "text/plain": [
       "<Figure size 144x144 with 1 Axes>"
      ]
     },
     "metadata": {
      "needs_background": "light"
     },
     "output_type": "display_data"
    }
   ],
   "source": [
    "fix= np.array([[0, 0, 0, 0, 0, 0],\n",
    "               [0, 0, 0, 0, 0, 5],\n",
    "               [0, 2, 0, 0, 3, 0],\n",
    "               [0, 0, 0, 0, 0, 0],\n",
    "               [2, 0, 0, 0, 0, 0],\n",
    "               [0, 0, 5, 0, 0, 0]])\n",
    "\n",
    "ans,y = sol(fix,\"default\")\n",
    "\n"
   ]
  },
  {
   "cell_type": "code",
   "execution_count": 37,
   "id": "a9e003af-47f9-4de7-884b-2bee45aa0403",
   "metadata": {},
   "outputs": [
    {
     "name": "stdout",
     "output_type": "stream",
     "text": [
      "pqffd: builtin strategy for solving QF_FD problems in parallel. Solved in 2.8282 seconds\n"
     ]
    },
    {
     "data": {
      "image/png": "[encoded data removed]",
      "text/plain": [
       "<Figure size 240x240 with 1 Axes>"
      ]
     },
     "metadata": {
      "needs_background": "light"
     },
     "output_type": "display_data"
    }
   ],
   "source": [
    "fix2= np.array([[1, 0, 0, 0, 4, 0, 0, 4, 0, 2],\n",
    "                [0, 0, 0, 0, 0, 0, 0, 0, 0, 0],\n",
    "                [0, 1, 0, 0, 0, 2, 0, 0, 0, 0],\n",
    "                [0, 0, 1, 0, 0, 0, 1, 0, 0, 2],\n",
    "                [1, 0, 0, 0, 0, 3, 0, 0, 0, 0],\n",
    "                [0, 0, 6, 0, 0, 0, 0, 0, 0, 5],\n",
    "                [0, 0, 0, 0, 0, 0, 0, 0, 0, 0],\n",
    "                [0, 0, 0, 0, 0, 1, 0, 0, 0, 2],\n",
    "                [0, 0, 0, 0, 2, 0, 0, 2, 0, 0],\n",
    "                [0, 0, 0, 0, 0, 0, 0, 0, 0, 0]])\n",
    "\n",
    "\n",
    "ans = sol(fix2,\"pqffd\")"
   ]
  },
  {
   "cell_type": "code",
   "execution_count": 38,
   "id": "37043b0c-6022-4d9d-9e25-50b657905b64",
   "metadata": {},
   "outputs": [
    {
     "name": "stdout",
     "output_type": "stream",
     "text": [
      "pqffd: builtin strategy for solving QF_FD problems in parallel. Solved in 3.4366 seconds\n"
     ]
    },
    {
     "data": {
      "image/png": "[encoded data removed]",
      "text/plain": [
       "<Figure size 240x240 with 1 Axes>"
      ]
     },
     "metadata": {
      "needs_background": "light"
     },
     "output_type": "display_data"
    }
   ],
   "source": [
    "fix3=np.array([[0, 0, 0, 2, 0, 0, 3, 0, 0, 2],\n",
    "               [0, 0, 2, 0, 0, 0, 0, 0, 0, 0],\n",
    "               [2, 0, 0, 0, 0, 0, 5, 0, 0, 0],\n",
    "               [0, 0, 0, 0, 0, 0, 0, 0, 0, 0],\n",
    "               [0, 0, 0, 0, 0, 0, 0, 0, 0, 0],\n",
    "               [0, 0, 0, 0, 0, 0, 0, 0, 0, 0],\n",
    "               [0, 0, 0, 0, 0, 0, 0, 0, 0, 0],\n",
    "               [3, 0, 0, 0, 0, 0, 2, 0, 0, 0],\n",
    "               [0, 0, 8, 0, 0, 0, 0, 0, 0, 0],\n",
    "               [0, 0, 0,12, 0, 0, 6, 0, 0, 0]])\n",
    "\n",
    "ans = sol(fix3,\"pqffd\")"
   ]
  },
  {
   "cell_type": "code",
   "execution_count": null,
   "id": "7f716528-45e7-44c2-9384-6d6ec38a4d3d",
   "metadata": {},
   "outputs": [],
   "source": []
  },
  {
   "cell_type": "code",
   "execution_count": null,
   "id": "481333de-9887-4c1e-8b42-5bd63243d989",
   "metadata": {},
   "outputs": [],
   "source": [
    "\n",
    "  "
   ]
  }
 ],
 "metadata": {
  "kernelspec": {
   "display_name": "Python 3",
   "language": "python",
   "name": "python3"
  },
  "language_info": {
   "codemirror_mode": {
    "name": "ipython",
    "version": 3
   },
   "file_extension": ".py",
   "mimetype": "text/x-python",
   "name": "python",
   "nbconvert_exporter": "python",
   "pygments_lexer": "ipython3",
   "version": "3.7.10"
  }
 },
 "nbformat": 4,
 "nbformat_minor": 5
}
