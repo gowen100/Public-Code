{
 "cells": [
  {
   "cell_type": "code",
   "execution_count": 1,
   "id": "9abb0753-1a84-452c-884f-48fed1a4675c",
   "metadata": {},
   "outputs": [],
   "source": [
    "import numpy as np\n",
    "import pandas as pd\n",
    "import time\n",
    "import seaborn as sns\n",
    "import matplotlib.pyplot as plt\n",
    "import itertools\n",
    "from z3 import *"
   ]
  },
  {
   "cell_type": "code",
   "execution_count": 2,
   "id": "877492dd-51ae-4fcb-89a7-27c1bfa3cd8c",
   "metadata": {},
   "outputs": [],
   "source": [
    "# not quite working yet. Can get a separate circular island for large numbers\n",
    "\n",
    "\n",
    "fix= np.array([[0, 0, 0, 0, 0, 0],\n",
    "               [0, 0, 0, 0, 0, 5],\n",
    "               [0, 2, 0, 0, 3, 0],\n",
    "               [0, 0, 0, 0, 0, 0],\n",
    "               [2, 0, 0, 0, 0, 0],\n",
    "               [0, 0, 5, 0, 0, 0]])\n",
    "\n",
    "fix2= np.array([[1, 0, 0, 0, 4, 0, 0, 4, 0, 2],\n",
    "                [0, 0, 0, 0, 0, 0, 0, 0, 0, 0],\n",
    "                [0, 1, 0, 0, 0, 2, 0, 0, 0, 0],\n",
    "                [0, 0, 1, 0, 0, 0, 1, 0, 0, 2],\n",
    "                [1, 0, 0, 0, 0, 3, 0, 0, 0, 0],\n",
    "                [0, 0, 6, 0, 0, 0, 0, 0, 0, 5],\n",
    "                [0, 0, 0, 0, 0, 0, 0, 0, 0, 0],\n",
    "                [0, 0, 0, 0, 0, 1, 0, 0, 0, 2],\n",
    "                [0, 0, 0, 0, 2, 0, 0, 2, 0, 0],\n",
    "                [0, 0, 0, 0, 0, 0, 0, 0, 0, 0]])\n"
   ]
  },
  {
   "cell_type": "code",
   "execution_count": 3,
   "id": "27d1eecd-6afc-43c9-ba0e-fadb2b0e4a42",
   "metadata": {},
   "outputs": [],
   "source": [
    "def neighbours(i,j,N):\n",
    "    return [[i+x,j+y] for (x,y) in [(-1,0),(0,-1),(1,0),(0,1)] if i+x>=0 and i+x <N and j+y>=0 and j+y <N ]\n",
    "    \n",
    "def pr(ans,fix):\n",
    "    annot = fix.astype('str')\n",
    "    annot[annot==\"0\"] =\"\"\n",
    "    fig,ax = plt.subplots(1,1,figsize=(3,3))\n",
    "    ax =sns.heatmap(ans !=0,annot=annot,cbar=False,cmap=\"Greys_r\",fmt=\"\",linewidths=1,annot_kws={\"size\":14},linecolor='k')\n",
    "    ax.axis(\"off\")\n",
    "    plt.show()"
   ]
  },
  {
   "cell_type": "code",
   "execution_count": 4,
   "id": "6f08632d-3d0a-44fc-a054-535f518b4705",
   "metadata": {},
   "outputs": [],
   "source": [
    "def solve(fix,tactic):\n",
    "    start= time.time()\n",
    "    N = fix.shape[0]\n",
    "    C = int(np.sum(fix!=0))\n",
    "    roots = [[i,j,e] for (i,j),e in np.ndenumerate(fix) if e !=0]\n",
    "    \n",
    "    s = Tactic(tactic).solver()   \n",
    "    X = np.array(IntVector('x', N**2),dtype=object).reshape(N,N)\n",
    "   \n",
    "    # limit the grid values to 0 (black) or the island\n",
    "    s += [And(e>= 0  ,e <=C) for (i,j),e in np.ndenumerate(X)]  \n",
    "    \n",
    "    # set the island values for each root\n",
    "    s += [X[a,b] == n+1 for n,[a,b,x] in enumerate(roots)]\n",
    "    \n",
    "    # make sure the size of each island is correct\n",
    "    s += [PbEq([(e==n+1,1) for (i,j),e in np.ndenumerate(X)],x) for n,[a,b,x] in enumerate(roots)]\n",
    "    \n",
    "    # islands don't touch\n",
    "    s += [Implies(e > 0,And([Or(X[x,y]==e,X[x,y]==0) for x,y in neighbours(i,j,N)])) for (i,j),e in np.ndenumerate(X)]\n",
    "    \n",
    "    # Define a variable to determine if there is an edge between 2 cells\n",
    "    edge = {}\n",
    "    for i in range(N):\n",
    "        for j in range(N):  \n",
    "            for (k,l) in neighbours(i,j,N) :\n",
    "                edge[(i,j,k,l)] = Int(\"e%d%d%d%d\" % (i,j,k,l))\n",
    "                s += Or(edge[(i,j,k,l)] ==0,edge[(i,j,k,l)]==1) \n",
    "                \n",
    "    for i in range(N):\n",
    "        for j in range(N):  \n",
    "            for (k,l) in neighbours(i,j,N):\n",
    "                # Make edges one way to form a tree\n",
    "                s += (edge[(i,j,k,l)] + edge[(k,l,i,j)]) <= 1\n",
    "                # Cells with an edge have the same value\n",
    "                s +=Implies(edge[(k,l,i,j)] == 1,X[i,j] == X[k,l])\n",
    "    \n",
    "    # only one edge into each cell\n",
    "        for i in range(N):\n",
    "            for j in range(N):  \n",
    "                # only one edge into each cell\n",
    "                s += Sum([edge[(k,l,i,j)] for (k,l) in neighbours(i,j,N) ]) <=1\n",
    "                # root cells have no feeds in\n",
    "                s += Implies(int(fix[i,j]) !=0, Sum([edge[(k,l,i,j)] for (k,l) in neighbours(i,j,N) ]) == 0)\n",
    "                # root cells > 1 feed out\n",
    "                s += Implies(int(fix[i,j]) >1, Sum([edge[(i,j,k,l)] for (k,l) in neighbours(i,j,N) ]) == 1)\n",
    "                # filled cells have a feed in\n",
    "                s += Implies(X[i,j] != 0, Or(Sum([edge[(k,l,i,j)] for (k,l) in neighbours(i,j,N) ]) == 1,int(fix[i,j]) !=0 ))\n",
    "                # zero cells have no feed in or out\n",
    "                s += Implies(X[i,j] == 0, Sum([edge[(i,j,k,l)] for (k,l) in neighbours(i,j,N) ]) == 0 )\n",
    "                s += Implies(X[i,j] == 0, Sum([edge[(k,l,i,j)] for (k,l) in neighbours(i,j,N) ]) == 0 )\n",
    "    \n",
    "    if s.check() == sat:\n",
    "        m = s.model()\n",
    "        print(\"{}: {} Solved in {:.4f} seconds\".format(tactic,tactic_description(tactic),time.time()-start))\n",
    "        evalu = np.vectorize(lambda x:m.evaluate(x).as_long())\n",
    "        r =  evalu(X)\n",
    "        pr(r,fix)\n",
    "        return r\n",
    "        #display([(v,evalu(edge[v]) for v in edge])\n",
    "    else:\n",
    "        print(\"fail\")    "
   ]
  },
  {
   "cell_type": "code",
   "execution_count": 5,
   "id": "c5a7b203-548e-470f-a8d4-ed58132f1515",
   "metadata": {},
   "outputs": [
    {
     "name": "stdout",
     "output_type": "stream",
     "text": [
      "pqffd: builtin strategy for solving QF_FD problems in parallel. Solved in 0.4946 seconds\n"
     ]
    },
    {
     "data": {
      "image/png": "[encoded data removed]",
      "text/plain": [
       "<Figure size 216x216 with 1 Axes>"
      ]
     },
     "metadata": {
      "needs_background": "light"
     },
     "output_type": "display_data"
    }
   ],
   "source": [
    "ans = solve(fix,\"pqffd\")"
   ]
  },
  {
   "cell_type": "code",
   "execution_count": 6,
   "id": "a9e003af-47f9-4de7-884b-2bee45aa0403",
   "metadata": {},
   "outputs": [
    {
     "name": "stdout",
     "output_type": "stream",
     "text": [
      "pqffd: builtin strategy for solving QF_FD problems in parallel. Solved in 2.3076 seconds\n"
     ]
    },
    {
     "data": {
      "image/png": "[encoded data removed]",
      "text/plain": [
       "<Figure size 216x216 with 1 Axes>"
      ]
     },
     "metadata": {
      "needs_background": "light"
     },
     "output_type": "display_data"
    }
   ],
   "source": [
    "ans = solve(fix2,\"pqffd\")"
   ]
  }
 ],
 "metadata": {
  "kernelspec": {
   "display_name": "Python 3",
   "language": "python",
   "name": "python3"
  },
  "language_info": {
   "codemirror_mode": {
    "name": "ipython",
    "version": 3
   },
   "file_extension": ".py",
   "mimetype": "text/x-python",
   "name": "python",
   "nbconvert_exporter": "python",
   "pygments_lexer": "ipython3",
   "version": "3.7.10"
  }
 },
 "nbformat": 4,
 "nbformat_minor": 5
}
