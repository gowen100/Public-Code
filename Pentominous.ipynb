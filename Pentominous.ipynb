{
 "cells": [
  {
   "cell_type": "code",
   "execution_count": 8,
   "id": "9ad7d53d-be17-4034-bcb3-2441c79f099e",
   "metadata": {},
   "outputs": [],
   "source": [
    "import pandas as pd\n",
    "import numpy as np\n",
    "import time\n",
    "import seaborn as sns\n",
    "import matplotlib.pyplot as plt\n",
    "import itertools\n",
    "from matplotlib.patches import Rectangle\n",
    "from functools import lru_cache\n",
    "from z3 import *"
   ]
  },
  {
   "cell_type": "code",
   "execution_count": 9,
   "id": "1bed30e3-16f9-48a3-9117-f567feea5651",
   "metadata": {},
   "outputs": [
    {
     "data": {
      "text/plain": [
       "[(0, 0, 6),\n",
       " (7, 0, 4),\n",
       " (9, 0, 8),\n",
       " (4, 2, 9),\n",
       " (5, 4, 3),\n",
       " (9, 4, 4),\n",
       " (0, 5, 8),\n",
       " (4, 5, 11),\n",
       " (5, 7, 9),\n",
       " (0, 9, 6),\n",
       " (2, 9, 6),\n",
       " (9, 9, 3)]"
      ]
     },
     "execution_count": 9,
     "metadata": {},
     "output_type": "execute_result"
    }
   ],
   "source": [
    "#https://www.gmpuzzles.com/blog/pentominous-rules-info/\n",
    "\n",
    "fixed = [((0,0),'T'),\n",
    "         ((0,7),'N'),\n",
    "         ((0,9),'V'),\n",
    "         ((2,4),'W'),\n",
    "         ((4,5),'L'),\n",
    "         ((4,9),'N'),\n",
    "         ((5,0),'V'),\n",
    "         ((5,4),'Y'),\n",
    "         ((7,5),'W'),\n",
    "         ((9,0),'T'),\n",
    "         ((9,2),'T'),\n",
    "         ((9,9),'L'),\n",
    "        ]\n",
    "\n",
    "fixed = [((j,i),p) for ((i,j),p) in fixed]\n",
    "    \n",
    "labels = [' ','F', 'I', 'L', 'N', 'P', 'T', 'U', 'V', 'W', 'X', 'Y', 'Z']    \n",
    "[(i,j,labels.index(p)) for ((i,j),p) in fixed]"
   ]
  },
  {
   "cell_type": "code",
   "execution_count": 10,
   "id": "d6a61f37-c4d4-4b07-968b-fbf6a9d88663",
   "metadata": {},
   "outputs": [],
   "source": [
    "def reset(positions):\n",
    "    min_x, min_y = min(positions, key=lambda x:x[::-1])\n",
    "    return tuple(sorted((x-min_x, y-min_y) for x, y in positions))\n",
    "\n",
    "def variation(positions):\n",
    "    return list({reset(var) for var in (\n",
    "        positions,\n",
    "        [( x,  y) for x, y in positions], # original\n",
    "        [(-y,  x) for x, y in positions], # Anti-clockwise 90\n",
    "        [(-x, -y) for x, y in positions], # 180\n",
    "        [( y, -x) for x, y in positions], # Clockwise 90\n",
    "\n",
    "        [(-x,  y) for x, y in positions], # Mirror vertical\n",
    "        [(-y, -x) for x, y in positions], # Mirror diagonal\n",
    "        [( x, -y) for x, y in positions], # Mirror horizontal\n",
    "        [( y,  x) for x, y in positions], # Mirror diagonal\n",
    "    )})\n",
    "\n",
    "def orientation(x,y,shape,A,B):\n",
    "    for (alpha,beta) in shape:\n",
    "        links = []\n",
    "        for (i,j) in shape:\n",
    "            if (i,j) !=(alpha,beta):\n",
    "                if  (x+i-alpha >= 0) & (x+i-alpha <A) & (y+j-beta >=0) &  (y+j-beta <B):\n",
    "                     links.append((x+i-alpha,y+j-beta))\n",
    "    \n",
    "            if len(links) == len(shape)-1:\n",
    "                yield links\n",
    "            \n",
    "@lru_cache(maxsize=None)\n",
    "def get_shapes(n):\n",
    "    shapes = [\n",
    "    (((0, 1), (1, 0), (1, 1), (1, 2), (2, 0)), \"F\"),\n",
    "    (((0, 0), (0, 1), (0, 2), (0, 3), (0, 4)), \"I\"),\n",
    "    (((0, 0), (0, 1), (0, 2), (0, 3), (1, 3)), \"L\"),\n",
    "    (((0, 2), (0, 3), (1, 0), (1, 1), (1, 2)), \"N\"),\n",
    "    (((0, 0), (0, 1), (0, 2), (1, 0), (1, 1)), \"P\"),\n",
    "    (((0, 0), (1, 0), (1, 1), (1, 2), (2, 0)), \"T\"),\n",
    "    (((0, 0), (0, 1), (1, 1), (2, 0), (2, 1)), \"U\"),\n",
    "    (((0, 0), (0, 1), (0, 2), (1, 2), (2, 2)), \"V\"),\n",
    "    (((0, 0), (0, 1), (1, 1), (1, 2), (2, 2)), \"W\"),\n",
    "    (((0, 1), (1, 0), (1, 1), (1, 2), (2, 1)), \"X\"),\n",
    "    (((0, 1), (1, 0), (1, 1), (1, 2), (1, 3)), \"Y\"),\n",
    "    (((0, 0), (1, 0), (1, 1), (1, 2), (2, 2)), \"Z\")\n",
    "    ]\n",
    "\n",
    "    return {shape: variation(shape) for shape, name in [shapes[n-1]]}\n",
    "    \n",
    "    \n",
    "def forced(x,y,A,B,n):\n",
    "    shape_variations = get_shapes(n)\n",
    "\n",
    "    for key,vals in shape_variations.items():\n",
    "        poss = []\n",
    "        for val in vals:\n",
    "            poss += [*orientation(x,y,val,A,B)]\n",
    "    \n",
    "        return (poss)\n",
    "    \n",
    "def place(x,y,n,X,N):\n",
    "    return Or([\n",
    "        And([X[i,j]==n for i,j in force]+[X[i,j] !=n for i,j in exclude_neighbours(x,y,force,N)]) \n",
    "        for force in forced(x,y,N[0],N[1],n)\n",
    "            ])\n",
    "\n",
    "def neighbours(i,j,N):\n",
    "    l=[]\n",
    "    if i-1 >= 0:\n",
    "        l.append((i-1,j))\n",
    "    if i+1 < N[0]:\n",
    "        l.append((i+1,j))\n",
    "    if j-1 >= 0:\n",
    "        l.append((i,j-1))\n",
    "    if j+1 < N[1]:\n",
    "        l.append((i,j+1))\n",
    "    return l\n",
    "\n",
    "def exclude_neighbours(a,b,force,N):\n",
    "    x = force+[(a,b)]\n",
    "    exclude = []\n",
    "    for i,j in x:\n",
    "        exclude += [n for n in neighbours(i,j,N)]\n",
    "    return list(set(exclude)-set(x))"
   ]
  },
  {
   "cell_type": "code",
   "execution_count": 11,
   "id": "053be33c-fa90-4b68-a556-c32514b9fee9",
   "metadata": {},
   "outputs": [],
   "source": [
    "def fill(N,blank=[],fixed = []):\n",
    "    start = time.time()\n",
    "    \n",
    "    s = Tactic('default').solver()\n",
    "    \n",
    "    \n",
    "    X = np.array([[Int(\"X_%s%s\" % (i+1,j+1)) for j in range(N[1]) ] for i in range(N[0]) ],dtype=object)\n",
    "\n",
    "    # force blank/non-blank\n",
    "    labels = [' ','F', 'I', 'L', 'N', 'P', 'T', 'U', 'V', 'W', 'X', 'Y', 'Z']    \n",
    "       \n",
    "    s += [X[i,j] == labels.index(p) for ((i,j),p) in fixed]\n",
    "\n",
    "    # the big one. Set the placements round a given cell for each pentomino\n",
    "    s += [Implies(X[i,j] == n,place(i,j,n,X,N)) for n in range(1,13) for j in range(N[1]) for i in range(N[0])]\n",
    "\n",
    "    #limit the cells to 0 (blank) or 1-12 (pentomino)\n",
    "    s += [Or([X[i,j]==n for n in range(1,13)]) for j in range(N[1]) for i in range(N[0]) ]\n",
    "\n",
    "    #either 5 or 0 of each number\n",
    "    s += [Sum([If(X[i,j]==n,1,0) for j in range(N[1]) for i in range(N[0])]) % 5 == 0  for n in range(1,13)]\n",
    "       \n",
    "    print(\"SETUP DONE .. in {:0.4f} seconds\".format(time.time()-start))\n",
    "    if s.check() == sat:\n",
    "        m = s.model()\n",
    "        x = np.array([[m.evaluate(X[i,j]).as_long() for j in range(N[1])] for i in range(N[0])])\n",
    "        fig,ax = plt.subplots(1,1,figsize=(N[1]/2,N[0]/2)) \n",
    "        y = np.array(x).astype('int').astype('str')\n",
    "        shapes = [' ','F', 'I', 'L', 'N', 'P', 'T', 'U', 'V', 'W', 'X', 'Y', 'Z']\n",
    "        mapping = np.vectorize(lambda x:shapes[x])\n",
    "        shading = mapping(x)\n",
    "        sns.heatmap(x,annot=shading,cbar=False,cmap=\"gist_ncar_r\",fmt=\"\",linewidths=1,linecolor=\"grey\",annot_kws={\"size\":12},vmin=0,vmax=12,alpha=0.5)\n",
    "        ax.axis(\"off\")\n",
    "        for ((i,j),p) in fixed:\n",
    "             ax.add_patch(Rectangle((j,i), 1, 1, fill=False, edgecolor='r', lw=3))\n",
    "        plt.show()\n",
    "        #print(s.statistics())\n",
    "    print('Solution took {:0.4f} seconds'.format(time.time()-start))"
   ]
  },
  {
   "cell_type": "code",
   "execution_count": 12,
   "id": "260056af-72f5-425a-a31d-a337e1b9a874",
   "metadata": {},
   "outputs": [
    {
     "name": "stdout",
     "output_type": "stream",
     "text": [
      "SETUP DONE .. in 2.0605 seconds\n"
     ]
    },
    {
     "data": {
      "image/png": "[encoded data removed]",
      "text/plain": [
       "<Figure size 144x180 with 1 Axes>"
      ]
     },
     "metadata": {
      "needs_background": "light"
     },
     "output_type": "display_data"
    },
    {
     "name": "stdout",
     "output_type": "stream",
     "text": [
      "Solution took 2.1463 seconds\n"
     ]
    }
   ],
   "source": [
    "N= [5,4]\n",
    "fill(N,fixed=[((0,0),'T'),((0,1),'V'),((4,3),'W')])\n"
   ]
  },
  {
   "cell_type": "code",
   "execution_count": 13,
   "id": "60b2a4c7-f657-48bf-8226-f2aad54f0ec2",
   "metadata": {},
   "outputs": [
    {
     "name": "stdout",
     "output_type": "stream",
     "text": [
      "SETUP DONE .. in 25.3602 seconds\n"
     ]
    },
    {
     "data": {
      "image/png": "[encoded data removed]",
      "text/plain": [
       "<Figure size 360x360 with 1 Axes>"
      ]
     },
     "metadata": {
      "needs_background": "light"
     },
     "output_type": "display_data"
    },
    {
     "name": "stdout",
     "output_type": "stream",
     "text": [
      "Solution took 27.4057 seconds\n"
     ]
    }
   ],
   "source": [
    "fixed = [((0,0),'T'),\n",
    "         ((0,7),'N'),\n",
    "         ((0,9),'V'),\n",
    "         ((2,4),'W'),\n",
    "         ((4,5),'L'),\n",
    "         ((4,9),'N'),\n",
    "         ((5,0),'V'),\n",
    "         ((5,4),'Y'),\n",
    "         ((7,6),'W'),\n",
    "         ((9,0),'T'),\n",
    "         ((9,2),'T'),\n",
    "         ((9,9),'L'),\n",
    "        ]\n",
    "\n",
    "N= [10,10]\n",
    "fill(N,fixed=fixed)"
   ]
  },
  {
   "cell_type": "code",
   "execution_count": 14,
   "id": "59ea672c-414f-41d6-8afe-1fcdb222b7dd",
   "metadata": {},
   "outputs": [
    {
     "name": "stdout",
     "output_type": "stream",
     "text": [
      "SETUP DONE .. in 25.7601 seconds\n"
     ]
    },
    {
     "data": {
      "image/png": "[encoded data removed]",
      "text/plain": [
       "<Figure size 360x360 with 1 Axes>"
      ]
     },
     "metadata": {
      "needs_background": "light"
     },
     "output_type": "display_data"
    },
    {
     "name": "stdout",
     "output_type": "stream",
     "text": [
      "Solution took 27.2611 seconds\n"
     ]
    }
   ],
   "source": [
    "#https://www.gmpuzzles.com/blog/2021/04/pentominous-by-jinhoo-ahn-4/\n",
    "\n",
    "fixed = [((0,3),'W'),\n",
    "         ((0,7),'X'),\n",
    "         ((4,0),'W'),\n",
    "         ((4,5),'Y'),\n",
    "         ((5,4),'Y'),\n",
    "         ((5,9),'X'),\n",
    "         ((9,2),'W'),\n",
    "         ((9,6),'X')\n",
    "         \n",
    "        ]\n",
    "\n",
    "N= [10,10]\n",
    "fill(N,fixed=fixed)"
   ]
  },
  {
   "cell_type": "code",
   "execution_count": null,
   "id": "400ccd5e-9a13-4317-8162-76a6d12fa0cb",
   "metadata": {},
   "outputs": [],
   "source": []
  }
 ],
 "metadata": {
  "kernelspec": {
   "display_name": "Python 3",
   "language": "python",
   "name": "python3"
  },
  "language_info": {
   "codemirror_mode": {
    "name": "ipython",
    "version": 3
   },
   "file_extension": ".py",
   "mimetype": "text/x-python",
   "name": "python",
   "nbconvert_exporter": "python",
   "pygments_lexer": "ipython3",
   "version": "3.7.10"
  }
 },
 "nbformat": 4,
 "nbformat_minor": 5
}
