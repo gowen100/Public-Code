{
 "cells": [
  {
   "cell_type": "code",
   "execution_count": 2,
   "metadata": {},
   "outputs": [],
   "source": [
    "# Soduku solver https://medium.com/daily-python/solving-sudoku-puzzle-using-backtracking-in-python-daily-python-29-99a825042e with some amends\n",
    "# Cranking up for \n",
    "\n",
    "import numpy as np\n",
    "import pandas as pd\n",
    "from ipython import clear"
   ]
  },
  {
   "cell_type": "code",
   "execution_count": 20,
   "metadata": {},
   "outputs": [],
   "source": [
    "#Forming the Puzzle Grid\n",
    "class Soduku():\n",
    "    def __init__(self,puzzle_string):\n",
    "        self.grid = []\n",
    "        print('The Sudoku Problem')\n",
    "        for i in range(0, len(puzzle_string), 9):\n",
    "            row = puzzle_string[i:i+9]\n",
    "            temp = []\n",
    "            for block in row:\n",
    "                temp.append(int(block))\n",
    "            self.grid.append(temp)    \n",
    "        self.printGrid()\n",
    "    \n",
    "#Function to print the grid\n",
    "    def printGrid(self):\n",
    "        for row in self.grid:\n",
    "            print(row)\n",
    "        \n",
    "#Function to check if a digit can be placed in the given block\n",
    "    def possible(self,row,col,digit):\n",
    "   \n",
    "        for i in range(0,9):\n",
    "            if self.grid[row][i] == digit:\n",
    "                return False\n",
    "        for i in range(0,9):\n",
    "            if self.grid[i][col] == digit:\n",
    "                return False\n",
    "        square_row = (row//3)*3\n",
    "        square_col = (col//3)*3\n",
    "        for i in range(0,3):\n",
    "            for j in range(0,3):\n",
    "                if self.grid[square_row+i][square_col+j] == digit:\n",
    "                    return False    \n",
    "        return True\n",
    "\n",
    "    def solve(self):\n",
    "        for row in range(9):\n",
    "            for col in range(9):\n",
    "                if self.grid[row][col] == 0:\n",
    "                    for digit in range(1,10):\n",
    "                        if self.possible(row,col,digit):\n",
    "                            self.grid[row][col] = digit\n",
    "                            self.solve()\n",
    "                            self.grid[row][col] = 0  #Backtrack step\n",
    "                    return\n",
    "        print('\\nThe Solution')\n",
    "        self.printGrid()"
   ]
  },
  {
   "cell_type": "code",
   "execution_count": 21,
   "metadata": {},
   "outputs": [
    {
     "name": "stdout",
     "output_type": "stream",
     "text": [
      "The Sudoku Problem\n",
      "[0, 0, 4, 3, 0, 0, 2, 0, 9]\n",
      "[0, 0, 5, 0, 0, 9, 0, 0, 1]\n",
      "[0, 7, 0, 0, 6, 0, 0, 4, 3]\n",
      "[0, 0, 6, 0, 0, 2, 0, 8, 7]\n",
      "[1, 9, 0, 0, 0, 7, 4, 0, 0]\n",
      "[0, 5, 0, 0, 8, 3, 0, 0, 0]\n",
      "[6, 0, 0, 0, 0, 0, 1, 0, 5]\n",
      "[0, 0, 3, 5, 0, 8, 6, 9, 0]\n",
      "[0, 4, 2, 9, 1, 0, 3, 0, 0]\n",
      "\n",
      "The Solution\n",
      "[8, 6, 4, 3, 7, 1, 2, 5, 9]\n",
      "[3, 2, 5, 8, 4, 9, 7, 6, 1]\n",
      "[9, 7, 1, 2, 6, 5, 8, 4, 3]\n",
      "[4, 3, 6, 1, 9, 2, 5, 8, 7]\n",
      "[1, 9, 8, 6, 5, 7, 4, 3, 2]\n",
      "[2, 5, 7, 4, 8, 3, 9, 1, 6]\n",
      "[6, 8, 9, 7, 3, 4, 1, 2, 5]\n",
      "[7, 1, 3, 5, 2, 8, 6, 9, 4]\n",
      "[5, 4, 2, 9, 1, 6, 3, 7, 8]\n"
     ]
    }
   ],
   "source": [
    "puzzle_string = \"004300209005009001070060043006002087190007400050083000600000105003508690042910300\"\n",
    "x = Soduku(puzzle_string)\n",
    "x.solve()"
   ]
  },
  {
   "cell_type": "code",
   "execution_count": 22,
   "metadata": {},
   "outputs": [
    {
     "name": "stdout",
     "output_type": "stream",
     "text": [
      "The Sudoku Problem\n",
      "[0, 0, 9, 0, 6, 5, 4, 3, 0]\n",
      "[0, 0, 7, 0, 0, 0, 8, 0, 0]\n",
      "[6, 0, 0, 1, 0, 8, 0, 2, 0]\n",
      "[0, 0, 3, 0, 9, 0, 0, 0, 2]\n",
      "[5, 0, 1, 4, 0, 3, 9, 6, 0]\n",
      "[8, 0, 4, 0, 0, 0, 1, 0, 0]\n",
      "[0, 3, 0, 5, 0, 9, 0, 0, 7]\n",
      "[0, 5, 6, 0, 8, 0, 0, 0, 0]\n",
      "[0, 7, 0, 2, 4, 0, 0, 9, 0]\n",
      "\n",
      "The Solution\n",
      "[2, 8, 9, 7, 6, 5, 4, 3, 1]\n",
      "[3, 1, 7, 9, 2, 4, 8, 5, 6]\n",
      "[6, 4, 5, 1, 3, 8, 7, 2, 9]\n",
      "[7, 6, 3, 8, 9, 1, 5, 4, 2]\n",
      "[5, 2, 1, 4, 7, 3, 9, 6, 8]\n",
      "[8, 9, 4, 6, 5, 2, 1, 7, 3]\n",
      "[4, 3, 2, 5, 1, 9, 6, 8, 7]\n",
      "[9, 5, 6, 3, 8, 7, 2, 1, 4]\n",
      "[1, 7, 8, 2, 4, 6, 3, 9, 5]\n"
     ]
    }
   ],
   "source": [
    "puzzle_string = \"009065430007000800600108020003090002501403960804000100030509007056080000070240090\"\n",
    "x = Soduku(puzzle_string)\n",
    "x.solve()"
   ]
  },
  {
   "cell_type": "code",
   "execution_count": null,
   "metadata": {},
   "outputs": [],
   "source": []
  }
 ],
 "metadata": {
  "kernelspec": {
   "display_name": "Python 3",
   "language": "python",
   "name": "python3"
  },
  "language_info": {
   "codemirror_mode": {
    "name": "ipython",
    "version": 3
   },
   "file_extension": ".py",
   "mimetype": "text/x-python",
   "name": "python",
   "nbconvert_exporter": "python",
   "pygments_lexer": "ipython3",
   "version": "3.7.6"
  }
 },
 "nbformat": 4,
 "nbformat_minor": 4
}
