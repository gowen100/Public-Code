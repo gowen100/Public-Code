{
 "cells": [
  {
   "cell_type": "code",
   "execution_count": 2,
   "metadata": {
    "id": "Oq1xibzMT1Wl"
   },
   "outputs": [],
   "source": [
    "import numpy as np\n",
    "import pandas as pd\n",
    "import time\n",
    "import seaborn as sns\n",
    "import matplotlib.pyplot as plt\n",
    "import requests\n",
    "from bs4 import BeautifulSoup\n",
    "import itertools\n",
    "from copy import deepcopy as dcopy\n",
    "from z3 import *"
   ]
  },
  {
   "cell_type": "markdown",
   "metadata": {
    "id": "U9Yh1D3HT1Ws"
   },
   "source": [
    "https://cracking-the-cryptic.web.app/sudoku/3Btgb7QLLp"
   ]
  },
  {
   "cell_type": "code",
   "execution_count": 3,
   "metadata": {
    "id": "844RhDFpT1Wu"
   },
   "outputs": [],
   "source": [
    "def sol_print(solution):\n",
    "    x= np.ones((3,3))\n",
    "    groups = np.block([[x*0,x*1,x*2],[x*3,x*4,x*5],[x*6,x*7,x*8]])\n",
    "    fig,ax = plt.subplots(1,1,figsize=(4,4))\n",
    "    count = 0\n",
    "    x = np.array(solution.astype('int').astype('str'))\n",
    "    x[x==\"0\"] =\"-\"\n",
    "    y = groups\n",
    "    ax = sns.heatmap(y,annot=x,cbar=False,cmap=\"tab20\",fmt=\"\",vmin=0,vmax=19,linewidths=1,annot_kws={\"size\":14})\n",
    "    ax.axis(\"off\")    \n",
    "    plt.tight_layout()\n",
    "    plt.show()"
   ]
  },
  {
   "cell_type": "code",
   "execution_count": 8,
   "metadata": {
    "id": "844RhDFpT1Wu"
   },
   "outputs": [],
   "source": [
    "soln =[[6,9,3,5,4,1,2,7,8],\n",
    "       [2,1,5,7,8,6,3,4,9],\n",
    "       [4,8,7,9,3,2,1,5,6],\n",
    "       [8,6,2,1,5,3,4,9,7], \n",
    "       [5,3,4,8,7,9,6,1,2],\n",
    "       [1,7,9,6,2,4,5,8,3],\n",
    "       [7,2,1,4,6,8,9,3,5],\n",
    "       [3,4,8,2,9,5,7,6,1],\n",
    "       [9,5,6,3,1,7,8,2,4]]\n",
    "\n",
    "fixed =[[0, 0, 0, 0, 0, 1, 2, 0, 0],\n",
    "        [0, 0, 0, 0, 0, 0, 3, 4, 0],\n",
    "        [0, 0, 0, 0, 0, 0, 0, 5, 6],\n",
    "        [0, 0, 0, 0, 0, 0, 0, 0, 7],\n",
    "        [0, 0, 0, 0, 0, 0, 0, 0, 0],\n",
    "        [1, 0, 0, 0, 0, 0, 0, 0, 0],\n",
    "        [7, 2, 0, 0, 0, 0, 0, 0, 0],\n",
    "        [0, 4, 8, 0, 0, 0, 0, 0, 0],\n",
    "        [0, 0, 6, 3, 0, 0, 0, 0, 0]]"
   ]
  },
  {
   "cell_type": "code",
   "execution_count": 28,
   "metadata": {
    "id": "844RhDFpT1Wu"
   },
   "outputs": [
    {
     "name": "stdout",
     "output_type": "stream",
     "text": [
      "Solved in 0.12566423416137695 seconds\n"
     ]
    },
    {
     "data": {
      "image/png": "[encoded data removed]",
      "text/plain": [
       "<Figure size 288x288 with 1 Axes>"
      ]
     },
     "metadata": {
      "needs_background": "light"
     },
     "output_type": "display_data"
    }
   ],
   "source": [
    "def z3_sudoku(grid,fixed):\n",
    "\n",
    "    # 9x9 matrix of integer variables\n",
    "    X = [ [Int(\"x_%s_%s\" % (i+1, j+1)) for j in range(9) ]  for i in range(9) ]\n",
    "\n",
    "    # each cell contains a value in {1, ..., 9}\n",
    "    cells_c  = [ And(1 <= X[i][j], X[i][j] <= 9)\n",
    "             for i in range(9) for j in range(9) ]\n",
    "\n",
    "    # each row contains a digit at most once\n",
    "    rows_c   = [ Distinct(X[i]) for i in range(9) ]\n",
    "\n",
    "    # each column contains a digit at most once\n",
    "    cols_c   = [ Distinct([ X[i][j] for i in range(9) ])\n",
    "             for j in range(9) ]\n",
    "\n",
    "    # each 3x3 square contains a digit at most once\n",
    "    sq_c     = [ Distinct([ X[3*i0 + i][3*j0 + j]\n",
    "                        for i in range(3) for j in range(3) ])\n",
    "             for i0 in range(3) for j0 in range(3) ]\n",
    "\n",
    "    sudoku_c = cells_c + rows_c + cols_c + sq_c\n",
    "\n",
    "    s = Tactic('lia').solver()\n",
    "    s.add(sudoku_c)\n",
    "    \n",
    "    s += [X[i][j] == fixed[i][j] for i in range(9) for j in range(9) if fixed[i][j] != 0]\n",
    "    s += [X[i][j] == grid[i][j] for i in range(9) for j in range(9) if grid[i][j] != 0]\n",
    "    \n",
    "    clone = [(0,0),(1,-1),(1,1),(2,0),(2,2),(3,1),(3,3),(4,2)]\n",
    "    s += Or([And([X[i+a][j+b] == X[2+a][3+b] for a,b in clone]) for i in range(5) for j in range(1,6) if (i,j) != (2,3)])\n",
    "    \n",
    "  \n",
    "    start = time.time()\n",
    "    if s.check() == sat:\n",
    "        m = s.model()\n",
    "        r = [ [ m.evaluate(X[i][j]).as_long() for j in range(9) ]\n",
    "                 for i in range(9) ]\n",
    "        print(\"Solved in {} seconds\".format(time.time()-start))\n",
    "        sol_print(np.array(r))\n",
    "\n",
    "    else:\n",
    "        print(\"Failed in {} seconds\".format(time.time()-start))\n",
    "\n",
    "\n",
    "z3_sudoku(np.zeros((9,9)),fixed)"
   ]
  },
  {
   "cell_type": "code",
   "execution_count": 22,
   "metadata": {},
   "outputs": [
    {
     "name": "stdout",
     "output_type": "stream",
     "text": [
      "ackermannize_bv : A tactic for performing full Ackermannization on bv instances.\n",
      "subpaving : tactic for testing subpaving module.\n",
      "horn : apply tactic for horn clauses.\n",
      "horn-simplify : simplify horn clauses.\n",
      "nlsat : (try to) solve goal using a nonlinear arithmetic solver.\n",
      "qfnra-nlsat : builtin strategy for solving QF_NRA problems using only nlsat.\n",
      "nlqsat : apply a NL-QSAT solver.\n",
      "qe-light : apply light-weight quantifier elimination.\n",
      "qe : apply quantifier elimination.\n",
      "qsat : apply a QSAT solver.\n",
      "qe2 : apply a QSAT based quantifier elimination.\n",
      "qe_rec : apply a QSAT based quantifier elimination recursively.\n",
      "psat : (try to) solve goal using a parallel SAT solver.\n",
      "sat : (try to) solve goal using a SAT solver.\n",
      "sat-preprocess : Apply SAT solver preprocessing procedures (bounded resolution, Boolean constant propagation, 2-SAT, subsumption, subsumption resolution).\n",
      "ctx-solver-simplify : apply solver-based contextual simplification rules.\n",
      "smt : apply a SAT based SMT solver.\n",
      "psmt : builtin strategy for SMT tactic in parallel.\n",
      "unit-subsume-simplify : unit subsumption simplification.\n",
      "aig : simplify Boolean structure using AIGs.\n",
      "add-bounds : add bounds to unbounded variables (under approximation).\n",
      "card2bv : convert pseudo-boolean constraints to bit-vectors.\n",
      "degree-shift : try to reduce degree of polynomials (remark: :mul2power simplification is automatically applied).\n",
      "diff-neq : specialized solver for integer arithmetic problems that contain only atoms of the form (<= k x) (<= x k) and (not (= (- x y) k)), where x and y are constants and k is a numeral, and all constants are bounded.\n",
      "eq2bv : convert integer variables used as finite domain elements to bit-vectors.\n",
      "factor : polynomial factorization.\n",
      "fix-dl-var : if goal is in the difference logic fragment, then fix the variable with the most number of occurrences at 0.\n",
      "fm : eliminate variables using fourier-motzkin elimination.\n",
      "lia2card : introduce cardinality constraints from 0-1 integer.\n",
      "lia2pb : convert bounded integer variables into a sequence of 0-1 variables.\n",
      "nla2bv : convert a nonlinear arithmetic problem into a bit-vector problem, in most cases the resultant goal is an under approximation and is useul for finding models.\n",
      "normalize-bounds : replace a variable x with lower bound k <= x with x' = x - k.\n",
      "pb2bv : convert pseudo-boolean constraints to bit-vectors.\n",
      "propagate-ineqs : propagate ineqs/bounds, remove subsumed inequalities.\n",
      "purify-arith : eliminate unnecessary operators: -, /, div, mod, rem, is-int, to-int, ^, root-objects.\n",
      "recover-01 : recover 0-1 variables hidden as Boolean variables.\n",
      "bit-blast : reduce bit-vector expressions into SAT.\n",
      "bv1-blast : reduce bit-vector expressions into bit-vectors of size 1 (notes: only equality, extract and concat are supported).\n",
      "bv_bound_chk : attempts to detect inconsistencies of bounds on bv expressions.\n",
      "propagate-bv-bounds : propagate bit-vector bounds by simplifying implied or contradictory bounds.\n",
      "propagate-bv-bounds-new : propagate bit-vector bounds by simplifying implied or contradictory bounds.\n",
      "reduce-bv-size : try to reduce bit-vector sizes using inequalities.\n",
      "bvarray2uf : Rewrite bit-vector arrays into bit-vector (uninterpreted) functions.\n",
      "dt2bv : eliminate finite domain data-types. Replace by bit-vectors.\n",
      "elim-small-bv : eliminate small, quantified bit-vectors by expansion.\n",
      "max-bv-sharing : use heuristics to maximize the sharing of bit-vector expressions such as adders and multipliers.\n",
      "blast-term-ite : blast term if-then-else by hoisting them.\n",
      "cofactor-term-ite : eliminate term if-the-else using cofactors.\n",
      "collect-statistics : Collects various statistics.\n",
      "ctx-simplify : apply contextual simplification rules.\n",
      "der : destructive equality resolution.\n",
      "distribute-forall : distribute forall over conjunctions.\n",
      "dom-simplify : apply dominator simplification rules.\n",
      "elim-term-ite : eliminate term if-then-else by adding fresh auxiliary declarations.\n",
      "elim-uncnstr : eliminate application containing unconstrained variables.\n",
      "injectivity : Identifies and applies injectivity axioms.\n",
      "snf : put goal in skolem normal form.\n",
      "nnf : put goal in negation normal form.\n",
      "occf : put goal in one constraint per clause normal form (notes: fails if proof generation is enabled; only clauses are considered).\n",
      "pb-preprocess : pre-process pseudo-Boolean constraints a la Davis Putnam.\n",
      "propagate-values : propagate constants.\n",
      "reduce-args : reduce the number of arguments of function applications, when for all occurrences of a function f the i-th is a value.\n",
      "reduce-invertible : reduce invertible variable occurrences.\n",
      "simplify : apply simplification rules.\n",
      "elim-and : convert (and a b) into (not (or (not a) (not b))).\n",
      "solve-eqs : eliminate variables by solving equations.\n",
      "special-relations : detect and replace by special relations.\n",
      "split-clause : split a clause in many subgoals.\n",
      "symmetry-reduce : apply symmetry reduction.\n",
      "tseitin-cnf : convert goal into CNF using tseitin-like encoding (note: quantifiers are ignored).\n",
      "tseitin-cnf-core : convert goal into CNF using tseitin-like encoding (note: quantifiers are ignored). This tactic does not apply required simplifications to the input goal like the tseitin-cnf tactic.\n",
      "qffd : builtin strategy for solving QF_FD problems.\n",
      "pqffd : builtin strategy for solving QF_FD problems in parallel.\n",
      "smtfd : builtin strategy for solving SMT problems by reduction to FD.\n",
      "fpa2bv : convert floating point numbers to bit-vectors.\n",
      "qffp : (try to) solve goal using the tactic for QF_FP.\n",
      "qffpbv : (try to) solve goal using the tactic for QF_FPBV (floats+bit-vectors).\n",
      "qffplra : (try to) solve goal using the tactic for QF_FPLRA.\n",
      "default : default strategy used when no logic is specified.\n",
      "sine-filter : eliminate premises using Sine Qua Non\n",
      "qfbv-sls : (try to) solve using stochastic local search for QF_BV.\n",
      "nra : builtin strategy for solving NRA problems.\n",
      "qfaufbv : builtin strategy for solving QF_AUFBV problems.\n",
      "qfauflia : builtin strategy for solving QF_AUFLIA problems.\n",
      "qfbv : builtin strategy for solving QF_BV problems.\n",
      "qfidl : builtin strategy for solving QF_IDL problems.\n",
      "qflia : builtin strategy for solving QF_LIA problems.\n",
      "qflra : builtin strategy for solving QF_LRA problems.\n",
      "qfnia : builtin strategy for solving QF_NIA problems.\n",
      "qfnra : builtin strategy for solving QF_NRA problems.\n",
      "qfuf : builtin strategy for solving QF_UF problems.\n",
      "qfufbv : builtin strategy for solving QF_UFBV problems.\n",
      "qfufbv_ackr : A tactic for solving QF_UFBV based on Ackermannization.\n",
      "ufnia : builtin strategy for solving UFNIA problems.\n",
      "uflra : builtin strategy for solving UFLRA problems.\n",
      "auflia : builtin strategy for solving AUFLIA problems.\n",
      "auflira : builtin strategy for solving AUFLIRA problems.\n",
      "aufnira : builtin strategy for solving AUFNIRA problems.\n",
      "lra : builtin strategy for solving LRA problems.\n",
      "lia : builtin strategy for solving LIA problems.\n",
      "lira : builtin strategy for solving LIRA problems.\n",
      "skip : do nothing tactic.\n",
      "fail : always fail tactic.\n",
      "fail-if-undecided : fail if goal is undecided.\n",
      "macro-finder : Identifies and applies macros.\n",
      "quasi-macros : Identifies and applies quasi-macros.\n",
      "ufbv-rewriter : Applies UFBV-specific rewriting rules, mainly demodulation.\n",
      "bv : builtin strategy for solving BV problems (with quantifiers).\n",
      "ufbv : builtin strategy for solving UFBV problems (with quantifiers).\n"
     ]
    }
   ],
   "source": [
    "describe_tactics()"
   ]
  },
  {
   "cell_type": "code",
   "execution_count": null,
   "metadata": {},
   "outputs": [],
   "source": []
  }
 ],
 "metadata": {
  "colab": {
   "include_colab_link": true,
   "name": "JaneSt-Feb18.ipynb",
   "provenance": []
  },
  "kernelspec": {
   "display_name": "Python 3",
   "language": "python",
   "name": "python3"
  },
  "language_info": {
   "codemirror_mode": {
    "name": "ipython",
    "version": 3
   },
   "file_extension": ".py",
   "mimetype": "text/x-python",
   "name": "python",
   "nbconvert_exporter": "python",
   "pygments_lexer": "ipython3",
   "version": "3.7.10"
  }
 },
 "nbformat": 4,
 "nbformat_minor": 4
}
