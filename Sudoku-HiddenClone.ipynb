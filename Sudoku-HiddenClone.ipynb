{
 "cells": [
  {
   "cell_type": "code",
   "execution_count": 2,
   "metadata": {
    "id": "Oq1xibzMT1Wl"
   },
   "outputs": [],
   "source": [
    "import numpy as np\n",
    "import pandas as pd\n",
    "import time\n",
    "import seaborn as sns\n",
    "import matplotlib.pyplot as plt\n",
    "import requests\n",
    "from bs4 import BeautifulSoup\n",
    "import itertools\n",
    "from copy import deepcopy as dcopy\n",
    "from z3 import *"
   ]
  },
  {
   "cell_type": "markdown",
   "metadata": {
    "id": "U9Yh1D3HT1Ws"
   },
   "source": [
    "https://cracking-the-cryptic.web.app/sudoku/3Btgb7QLLp"
   ]
  },
  {
   "cell_type": "code",
   "execution_count": null,
   "metadata": {
    "id": "844RhDFpT1Wu"
   },
   "outputs": [],
   "source": [
    "fixed =[[0, 0, 0, 0, 0, 1, 2, 0, 0],\n",
    "        [0, 0, 0, 0, 0, 0, 3, 4, 0],\n",
    "        [0, 0, 0, 0, 0, 0, 0, 5, 6],\n",
    "        [0, 0, 0, 0, 0, 0, 0, 0, 7],\n",
    "        [0, 0, 0, 0, 0, 0, 0, 0, 0],\n",
    "        [1, 0, 0, 0, 0, 0, 0, 0, 0],\n",
    "        [7, 2, 0, 0, 0, 0, 0, 0, 0],\n",
    "        [0, 4, 8, 0, 0, 0, 0, 0, 0],\n",
    "        [0, 0, 6, 3, 0, 0, 0, 0, 0]]"
   ]
  },
  {
   "cell_type": "code",
   "execution_count": 13,
   "metadata": {
    "id": "844RhDFpT1Wu"
   },
   "outputs": [
    {
     "name": "stdout",
     "output_type": "stream",
     "text": [
      "Took 0.050853729248046875 secs\n"
     ]
    },
    {
     "data": {
      "image/png": "[encoded data removed]",
      "text/plain": [
       "<Figure size 288x288 with 1 Axes>"
      ]
     },
     "metadata": {
      "needs_background": "light"
     },
     "output_type": "display_data"
    }
   ],
   "source": [
    "def z3_sudoku(grid):\n",
    "\n",
    "    s = Tactic(\"pqffd\").solver()\n",
    "    N =9\n",
    "    X = np.array(IntVector('x', N*N),dtype=object).reshape((N,N))\n",
    "\n",
    "    #standard rules\n",
    "    s += [And(e>0,e<10) for (i,j),e in np.ndenumerate(X)]\n",
    "    s += [Distinct([e for (i,j),e in np.ndenumerate(X) if i == n]) for n in range(N)]\n",
    "    s += [Distinct([e for (i,j),e in np.ndenumerate(X) if j == n]) for n in range(N)]\n",
    "    \n",
    "    groups = np.block([[np.ones((3,3),dtype=int)*(i+j*3) for i in range(3)]for j in range(3)])\n",
    "    s += [Distinct([e for (i,j),e in np.ndenumerate(X) if groups[i,j] == n]) for n in range(N)]\n",
    "    \n",
    "    #given cells\n",
    "    s += [e==int(grid[i,j]) for (i,j),e in np.ndenumerate(X) if grid[i,j] !=0]\n",
    "    \n",
    "    #hidden clone\n",
    "    clone = [(0,0),(1,-1),(1,1),(2,0),(2,2),(3,1),(3,3),(4,2)]\n",
    "    s += Or([And([X[i+a,j+b] == X[2+a,3+b] for a,b in clone]) for i in range(5) for j in range(1,6) if (i,j) != (2,3)])\n",
    "    \n",
    "  \n",
    "    start = time.time()\n",
    "    evalu = np.vectorize(lambda x :m.evaluate(x).as_long())\n",
    "    if s.check() == sat:\n",
    "        print(\"Took {} secs\".format(time.time()-start))\n",
    "        m = s.model()\n",
    "        result = evalu(X)\n",
    "        fig,ax = plt.subplots(1,1,figsize=(4,4))        \n",
    "        ax = sns.heatmap(groups,annot=result,cbar=False,\n",
    "                         cmap=\"tab10\",linecolor=\"k\",linewidths=1,annot_kws={\"size\":12,\"color\":\"k\"},alpha =.5)\n",
    "        ax.axis(\"off\")\n",
    "\n",
    "\n",
    "z3_sudoku(np.array(fixed))"
   ]
  },
  {
   "cell_type": "code",
   "execution_count": null,
   "metadata": {},
   "outputs": [],
   "source": [
    "soln =[[6,9,3,5,4,1,2,7,8],\n",
    "       [2,1,5,7,8,6,3,4,9],\n",
    "       [4,8,7,9,3,2,1,5,6],\n",
    "       [8,6,2,1,5,3,4,9,7], \n",
    "       [5,3,4,8,7,9,6,1,2],\n",
    "       [1,7,9,6,2,4,5,8,3],\n",
    "       [7,2,1,4,6,8,9,3,5],\n",
    "       [3,4,8,2,9,5,7,6,1],\n",
    "       [9,5,6,3,1,7,8,2,4]]"
   ]
  }
 ],
 "metadata": {
  "colab": {
   "include_colab_link": true,
   "name": "JaneSt-Feb18.ipynb",
   "provenance": []
  },
  "kernelspec": {
   "display_name": "Python 3 (ipykernel)",
   "language": "python",
   "name": "python3"
  },
  "language_info": {
   "codemirror_mode": {
    "name": "ipython",
    "version": 3
   },
   "file_extension": ".py",
   "mimetype": "text/x-python",
   "name": "python",
   "nbconvert_exporter": "python",
   "pygments_lexer": "ipython3",
   "version": "3.7.12"
  }
 },
 "nbformat": 4,
 "nbformat_minor": 4
}
