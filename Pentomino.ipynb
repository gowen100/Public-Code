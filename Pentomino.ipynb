{
 "cells": [
  {
   "cell_type": "code",
   "execution_count": 1,
   "id": "b9902d0f-1182-435b-a47b-8e0af69e78cc",
   "metadata": {},
   "outputs": [],
   "source": [
    "import pandas as pd\n",
    "import numpy as np\n",
    "import time\n",
    "import seaborn as sns\n",
    "import matplotlib.pyplot as plt\n",
    "import itertools\n",
    "from scipy.ndimage import measurements\n",
    "from skimage.morphology import label\n",
    "\n",
    "from z3 import *"
   ]
  },
  {
   "cell_type": "code",
   "execution_count": 2,
   "id": "d402d71d-2744-4a42-b397-bc43e0bcec42",
   "metadata": {},
   "outputs": [],
   "source": [
    "def reset(positions):\n",
    "    min_x, min_y = min(positions, key=lambda x:x[::-1])\n",
    "    return tuple(sorted((x-min_x, y-min_y) for x, y in positions))\n",
    "\n",
    "def variation(positions):\n",
    "    return list({reset(var) for var in (\n",
    "        positions,\n",
    "        [( x,  y) for x, y in positions], # original\n",
    "        [(-y,  x) for x, y in positions], # Anti-clockwise 90\n",
    "        [(-x, -y) for x, y in positions], # 180\n",
    "        [( y, -x) for x, y in positions], # Clockwise 90\n",
    "\n",
    "        [(-x,  y) for x, y in positions], # Mirror vertical\n",
    "        [(-y, -x) for x, y in positions], # Mirror diagonal\n",
    "        [( x, -y) for x, y in positions], # Mirror horizontal\n",
    "        [( y,  x) for x, y in positions], # Mirror diagonal\n",
    "    )})\n",
    "\n",
    "def orientation(x,y,shape,A,B):\n",
    "    for (alpha,beta) in shape:\n",
    "        links = []\n",
    "        for (i,j) in shape:\n",
    "            if (i,j) !=(alpha,beta):\n",
    "                if  (x+i-alpha >= 0) & (x+i-alpha <A) & (y+j-beta >=0) &  (y+j-beta <B):\n",
    "                     links.append((x+i-alpha,y+j-beta))\n",
    "    \n",
    "            if len(links) == len(shape)-1:\n",
    "                yield links\n",
    "            \n",
    "def forced(x,y,A,B,n):\n",
    "    shapes = [\n",
    "    (((0, 1), (1, 0), (1, 1), (1, 2), (2, 0)), \"F\"),\n",
    "    (((0, 0), (0, 1), (0, 2), (0, 3), (0, 4)), \"I\"),\n",
    "    (((0, 0), (0, 1), (0, 2), (0, 3), (1, 3)), \"L\"),\n",
    "    (((0, 2), (0, 3), (1, 0), (1, 1), (1, 2)), \"N\"),\n",
    "    (((0, 0), (0, 1), (0, 2), (1, 0), (1, 1)), \"P\"),\n",
    "    (((0, 0), (1, 0), (1, 1), (1, 2), (2, 0)), \"T\"),\n",
    "    (((0, 0), (0, 1), (1, 1), (2, 0), (2, 1)), \"U\"),\n",
    "    (((0, 0), (0, 1), (0, 2), (1, 2), (2, 2)), \"V\"),\n",
    "    (((0, 0), (0, 1), (1, 1), (1, 2), (2, 2)), \"W\"),\n",
    "    (((0, 1), (1, 0), (1, 1), (1, 2), (2, 1)), \"X\"),\n",
    "    (((0, 1), (1, 0), (1, 1), (1, 2), (1, 3)), \"Y\"),\n",
    "    (((0, 0), (1, 0), (1, 1), (1, 2), (2, 2)), \"Z\")\n",
    "    ]\n",
    "\n",
    "    shape_variations = {shape: variation(shape) for shape, name in [shapes[n-1]]}\n",
    "\n",
    "    for key,vals in shape_variations.items():\n",
    "        poss = []\n",
    "        for val in vals:\n",
    "            poss += [*orientation(x,y,val,A,B)]\n",
    "    \n",
    "        return poss\n",
    "\n",
    "def place(x,y,n,X,N):\n",
    "    return Or([\n",
    "        And([X[i,j]==n for i,j in force]) \n",
    "        for force in forced(x,y,N[0],N[1],n)\n",
    "            ])"
   ]
  },
  {
   "cell_type": "code",
   "execution_count": 3,
   "id": "053be33c-fa90-4b68-a556-c32514b9fee9",
   "metadata": {},
   "outputs": [],
   "source": [
    "def fill(N,blank=[],use_lia = False):\n",
    "    start = time.time()\n",
    "    \n",
    "    if use_lia:\n",
    "        t1 = Tactic('simplify')\n",
    "        t2 = Tactic('qflia')\n",
    "        s = Then(t1,t2).solver()\n",
    "    else:\n",
    "        s = Tactic('default').solver()\n",
    "    \n",
    "    \n",
    "    X = np.array([[Int(\"X_%s%s\" % (i+1,j+1)) for j in range(N[1]) ] for i in range(N[0]) ],dtype=object)\n",
    "\n",
    "    # force blank/non-blank\n",
    "    s += [X[i,j] == 0 if (i,j) in blank else X[i,j] !=0 for j in range(N[1]) for i in range(N[0]) ]\n",
    "\n",
    "    # the big one. Set the placements round a given cell for each pentomino\n",
    "    s += [Implies(X[i,j] == n,place(i,j,n,X,N)) for n in range(1,13) for j in range(N[1]) for i in range(N[0])]\n",
    "\n",
    "    #limit the cells to 0 (blank) or 1-12 (pentomino)\n",
    "    s += [Or([X[i,j]==n for n in range(0,13)]) for j in range(N[1]) for i in range(N[0]) ]\n",
    "\n",
    "    #either 5 or 0 of each number\n",
    "    s += [Or(PbEq([(X[i,j]==n,1) for j in range(N[1]) for i in range(N[0])],5),\n",
    "         PbEq([(X[i,j]==n,1) for j in range(N[1]) for i in range(N[0])],0))\n",
    "         for n in range(1,13)]\n",
    "\n",
    "\n",
    "    print(\"SETUP DONE .. in {:0.4f} seconds\".format(time.time()-start))\n",
    "    if s.check() == sat:\n",
    "        m = s.model()\n",
    "        x = np.array([[m.evaluate(X[i,j]).as_long() for j in range(N[1])] for i in range(N[0])])\n",
    "        fig,ax = plt.subplots(1,1,figsize=(N[1]/2,N[0]/2)) \n",
    "        y = np.array(x).astype('int').astype('str')\n",
    "        shapes = [' ','F', 'I', 'L', 'N', 'P', 'T', 'U', 'V', 'W', 'X', 'Y', 'Z']\n",
    "        mapping = np.vectorize(lambda x:shapes[x])\n",
    "        shading = mapping(x)\n",
    "        sns.heatmap(x,annot=shading,cbar=False,cmap=\"gist_ncar_r\",fmt=\"\",linewidths=1,linecolor=\"grey\",annot_kws={\"size\":12},vmin=0,vmax=12,alpha=0.8)\n",
    "        ax.axis(\"off\")\n",
    "        plt.show()\n",
    "        #print(s.statistics())\n",
    "    print('Solution took {:0.4f} seconds'.format(time.time()-start))"
   ]
  },
  {
   "cell_type": "code",
   "execution_count": 4,
   "id": "260056af-72f5-425a-a31d-a337e1b9a874",
   "metadata": {},
   "outputs": [
    {
     "name": "stdout",
     "output_type": "stream",
     "text": [
      "SETUP DONE .. in 2.9651 seconds\n"
     ]
    },
    {
     "data": {
      "image/png": "[encoded data removed]",
      "text/plain": [
       "<Figure size 720x108 with 1 Axes>"
      ]
     },
     "metadata": {
      "needs_background": "light"
     },
     "output_type": "display_data"
    },
    {
     "name": "stdout",
     "output_type": "stream",
     "text": [
      "Solution took 13.2506 seconds\n",
      "SETUP DONE .. in 2.7516 seconds\n"
     ]
    },
    {
     "data": {
      "image/png": "[encoded data removed]",
      "text/plain": [
       "<Figure size 720x108 with 1 Axes>"
      ]
     },
     "metadata": {
      "needs_background": "light"
     },
     "output_type": "display_data"
    },
    {
     "name": "stdout",
     "output_type": "stream",
     "text": [
      "Solution took 17.1391 seconds\n"
     ]
    }
   ],
   "source": [
    "N= [3,20]\n",
    "fill(N)\n",
    "fill(N,use_lia=True)"
   ]
  },
  {
   "cell_type": "code",
   "execution_count": 5,
   "id": "a5a784b8-5ed3-4848-828a-9c9c61b8a836",
   "metadata": {},
   "outputs": [
    {
     "name": "stdout",
     "output_type": "stream",
     "text": [
      "SETUP DONE .. in 4.0442 seconds\n"
     ]
    },
    {
     "data": {
      "image/png": "[encoded data removed]",
      "text/plain": [
       "<Figure size 432x180 with 1 Axes>"
      ]
     },
     "metadata": {
      "needs_background": "light"
     },
     "output_type": "display_data"
    },
    {
     "name": "stdout",
     "output_type": "stream",
     "text": [
      "Solution took 4.7802 seconds\n"
     ]
    }
   ],
   "source": [
    "N= [5,12]\n",
    "fill(N)\n"
   ]
  },
  {
   "cell_type": "code",
   "execution_count": 6,
   "id": "fc98ab59-ce06-4ad6-a83d-d19807852258",
   "metadata": {},
   "outputs": [
    {
     "name": "stdout",
     "output_type": "stream",
     "text": [
      "SETUP DONE .. in 4.8590 seconds\n"
     ]
    },
    {
     "data": {
      "image/png": "[encoded data removed]",
      "text/plain": [
       "<Figure size 288x288 with 1 Axes>"
      ]
     },
     "metadata": {
      "needs_background": "light"
     },
     "output_type": "display_data"
    },
    {
     "name": "stdout",
     "output_type": "stream",
     "text": [
      "Solution took 10.1030 seconds\n"
     ]
    }
   ],
   "source": [
    "N= [8,8]\n",
    "blank = [(3, 3), (3, 4), (4, 3), (4, 4)]\n",
    "fill(N,blank)"
   ]
  },
  {
   "cell_type": "code",
   "execution_count": 7,
   "id": "f7b45c0e-467b-4fab-8786-458eee7acc29",
   "metadata": {},
   "outputs": [
    {
     "name": "stdout",
     "output_type": "stream",
     "text": [
      "SETUP DONE .. in 4.8032 seconds\n"
     ]
    },
    {
     "data": {
      "image/png": "[encoded data removed]",
      "text/plain": [
       "<Figure size 288x288 with 1 Axes>"
      ]
     },
     "metadata": {
      "needs_background": "light"
     },
     "output_type": "display_data"
    },
    {
     "name": "stdout",
     "output_type": "stream",
     "text": [
      "Solution took 5.0445 seconds\n"
     ]
    }
   ],
   "source": [
    "N= [8,8]\n",
    "blank = [(0,0),(0,2),(0,4),(0,5),(0,7),\n",
    " (1,4),(1,5),\n",
    " (2,0),(2,2),(2,7),\n",
    " (3,3),(3,5),(3,7),\n",
    " (4,0),(4,1),\n",
    " (5,3),(5,5),(5,7),\n",
    " (6,0),(6,2),\n",
    " (7,0),(7,4),(7,6),(7,7)]\n",
    "\n",
    "fill(N,blank)"
   ]
  },
  {
   "cell_type": "code",
   "execution_count": 8,
   "id": "3a1d6007-278b-4d4f-b040-631c80a1810d",
   "metadata": {},
   "outputs": [
    {
     "name": "stdout",
     "output_type": "stream",
     "text": [
      "SETUP DONE .. in 1.2606 seconds\n"
     ]
    },
    {
     "data": {
      "image/png": "[encoded data removed]",
      "text/plain": [
       "<Figure size 180x180 with 1 Axes>"
      ]
     },
     "metadata": {
      "needs_background": "light"
     },
     "output_type": "display_data"
    },
    {
     "name": "stdout",
     "output_type": "stream",
     "text": [
      "Solution took 1.4122 seconds\n"
     ]
    }
   ],
   "source": [
    "N= [5,5]\n",
    "fill(N)"
   ]
  },
  {
   "cell_type": "code",
   "execution_count": 9,
   "id": "fe7e8b27-c115-4bc0-b379-8d7eb07732fb",
   "metadata": {},
   "outputs": [
    {
     "name": "stdout",
     "output_type": "stream",
     "text": [
      "SETUP DONE .. in 0.4019 seconds\n"
     ]
    },
    {
     "data": {
      "image/png": "[encoded data removed]",
      "text/plain": [
       "<Figure size 360x72 with 1 Axes>"
      ]
     },
     "metadata": {
      "needs_background": "light"
     },
     "output_type": "display_data"
    },
    {
     "name": "stdout",
     "output_type": "stream",
     "text": [
      "Solution took 0.4997 seconds\n"
     ]
    }
   ],
   "source": [
    "N= [2,10]\n",
    "fill(N)"
   ]
  },
  {
   "cell_type": "code",
   "execution_count": null,
   "id": "60b2a4c7-f657-48bf-8226-f2aad54f0ec2",
   "metadata": {},
   "outputs": [],
   "source": []
  }
 ],
 "metadata": {
  "kernelspec": {
   "display_name": "Python 3",
   "language": "python",
   "name": "python3"
  },
  "language_info": {
   "codemirror_mode": {
    "name": "ipython",
    "version": 3
   },
   "file_extension": ".py",
   "mimetype": "text/x-python",
   "name": "python",
   "nbconvert_exporter": "python",
   "pygments_lexer": "ipython3",
   "version": "3.7.10"
  }
 },
 "nbformat": 4,
 "nbformat_minor": 5
}
