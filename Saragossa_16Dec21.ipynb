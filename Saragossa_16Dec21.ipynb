{
 "cells": [
  {
   "cell_type": "code",
   "execution_count": 84,
   "id": "199a6697-b6d3-41b4-bbbc-436f499c6486",
   "metadata": {},
   "outputs": [],
   "source": [
    "import numpy as np\n",
    "import time\n",
    "import seaborn as sns\n",
    "import matplotlib.pyplot as plt\n",
    "import itertools\n",
    "\n",
    "from z3 import *"
   ]
  },
  {
   "cell_type": "markdown",
   "id": "ad30b3fc-5385-45f8-9984-c2b490eb87c3",
   "metadata": {},
   "source": [
    "https://www.linkedin.com/posts/saragossa_puzzlethursday-activity-6877202169641234433-RWb4    "
   ]
  },
  {
   "cell_type": "code",
   "execution_count": 87,
   "id": "148a37cf-e2e5-4afb-89d7-906eaaa78db4",
   "metadata": {},
   "outputs": [
    {
     "data": {
      "image/png": "[encoded data removed]",
      "text/plain": [
       "<Figure size 250x250 with 1 Axes>"
      ]
     },
     "metadata": {},
     "output_type": "display_data"
    },
    {
     "name": "stdout",
     "output_type": "stream",
     "text": [
      "Took 0.6830 seconds\n"
     ]
    }
   ],
   "source": [
    "def neighbours(i,j,N):\n",
    "    return [[i+x,j+y] for (x,y) in [(-1,0),(0,-1),(1,0),(0,1)] if i+x >= 0 and i+x < N and j+y >= 0 and j+y < N ]\n",
    "\n",
    "start= time.time()\n",
    "\n",
    "# set up the variables\n",
    "X = np.array(IntVector('x', N*N),dtype=object).reshape((N,N))\n",
    "Y = Int(\"y\")\n",
    "\n",
    "# puzzle definition\n",
    "rowtots = [4,4,2,1,3,6,3,2]\n",
    "col_tots = [2,2,Y,5,1,9-Y,3,3]  \n",
    "total = sum(row_tots)\n",
    "N= 8\n",
    "        \n",
    "# puzzle is finite domain   \n",
    "s = Tactic('pqffd').solver()\n",
    "\n",
    "# rules of the game\n",
    "s += And(Y>0,Y<9)\n",
    "s += [And(e >= 0  ,e <= total) for (i,j),e in np.ndenumerate(X)]\n",
    "s += X[1,0] == 1\n",
    "s += X[6,7] == total\n",
    "s += And([Sum([If(X[n,i] !=0,1,0) for i in range(N)]) == col_tots[n] for n in range(N)]) # column totals\n",
    "s += And([Sum([If(X[i,n] !=0,1,0) for i in range(N)]) == row_tots[n] for n in range(N)]) # row totals\n",
    "s += [PbEq([(e==n,1) for (i,j),e in np.ndenumerate(X)],1) for n in range(1,total+1)]     # steps are unique\n",
    "for (i,j),e in np.ndenumerate(X):\n",
    "    s += Implies(X[i,j] >1,Or([X[k,l] == e-1 for k,l in neighbours(i,j,N)]))             # steps in sequence\n",
    " \n",
    "\n",
    "if s.check() == sat:\n",
    "    m = s.model()\n",
    "    evalu = np.vectorize(lambda x:m.evaluate(x).as_long())\n",
    "    result =  evalu(X)\n",
    "    fig,ax = plt.subplots(1,1,figsize=(2.5,2.5)) \n",
    "    y = np.array(result).astype('int').astype('str')\n",
    "    y[y==\"0\"] =\"\"\n",
    "    xpoints = [[j+0.5 for (i,j),e in np.ndenumerate(result) if e==n][0] for n in range(1,total+1)]\n",
    "    ypoints = [[i+0.5 for (i,j),e in np.ndenumerate(result) if e==n][0] for n in range(1,total+1)]\n",
    "    sns.heatmap(result !=0,annot=y,cbar=False,cmap=\"Greys\",fmt=\"\",linewidths=0.5,center= 1,linecolor=\"grey\",annot_kws={\"size\":10},\n",
    "         xticklabels=row_tots  , yticklabels=[2,2,\"\",5,1,\"\",3,3])\n",
    "    ax.tick_params(left=False, bottom=False,labelleft=False, labelright=True)\n",
    "    plt.xticks(rotation=0,fontsize =8)\n",
    "    plt.yticks(rotation=0,fontsize =8)         \n",
    "    plt.plot(xpoints,ypoints,\"r\")\n",
    "    plt.tight_layout()       \n",
    "    plt.show()\n",
    "    print(\"Took {:.4f} seconds\".format(time.time()-start))    \n",
    "else:\n",
    "    print(\"{} Failed in {:.4f} seconds\".format(x,time.time()-start))       "
   ]
  },
  {
   "cell_type": "code",
   "execution_count": null,
   "id": "a181510b-e774-48ec-b66c-531dd2a143f3",
   "metadata": {},
   "outputs": [],
   "source": []
  }
 ],
 "metadata": {
  "kernelspec": {
   "display_name": "Python 3",
   "language": "python",
   "name": "python3"
  },
  "language_info": {
   "codemirror_mode": {
    "name": "ipython",
    "version": 3
   },
   "file_extension": ".py",
   "mimetype": "text/x-python",
   "name": "python",
   "nbconvert_exporter": "python",
   "pygments_lexer": "ipython3",
   "version": "3.7.10"
  }
 },
 "nbformat": 4,
 "nbformat_minor": 5
}
