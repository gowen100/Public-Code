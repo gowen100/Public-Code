{
 "cells": [
  {
   "cell_type": "code",
   "execution_count": 1,
   "metadata": {
    "id": "Oq1xibzMT1Wl"
   },
   "outputs": [],
   "source": [
    "import numpy as np\n",
    "import pandas as pd\n",
    "import time\n",
    "import seaborn as sns\n",
    "import matplotlib.pyplot as plt\n",
    "import requests\n",
    "from bs4 import BeautifulSoup\n",
    "import itertools\n",
    "from copy import deepcopy as dcopy\n",
    "from z3 import *"
   ]
  },
  {
   "cell_type": "code",
   "execution_count": 2,
   "metadata": {
    "id": "844RhDFpT1Wu"
   },
   "outputs": [],
   "source": [
    "def sol_print(solution):\n",
    "    x= np.ones((3,3))\n",
    "    groups = np.block([[x*0,x*1,x*2],[x*3,x*4,x*5],[x*6,x*7,x*8]])\n",
    "    \n",
    "    fig,ax = plt.subplots(1,1,figsize=(4,4))\n",
    "    x = np.array(solution.astype('int').astype('str'))\n",
    "    x[x==\"0\"] =\"-\"\n",
    "    ax = sns.heatmap(groups,annot=x,cbar=False,cmap=\"tab20\",fmt=\"\",vmin=0,vmax=19,linewidths=1,annot_kws={\"size\":14})\n",
    "    ax.axis(\"off\")    \n",
    "    plt.tight_layout()\n",
    "    plt.show()"
   ]
  },
  {
   "cell_type": "code",
   "execution_count": 3,
   "metadata": {
    "id": "844RhDFpT1Wu"
   },
   "outputs": [],
   "source": [
    "fix = np.array([[0, 0, 0, 0, 0, 0, 0, 0, 0],\n",
    "                [0, 0, 0, 0, 0, 0, 0, 0, 0],\n",
    "                [0, 0, 1, 0, 0, 0, 0, 0, 0],\n",
    "                [0, 0, 0, 0, 0, 0, 0, 0, 0],\n",
    "                [0, 0, 0, 0, 5, 0, 0, 0, 0],\n",
    "                [0, 0, 0, 0, 0, 0, 0, 0, 0],\n",
    "                [0, 0, 0, 0, 0, 0, 9, 0, 0],\n",
    "                [0, 0, 0, 0, 0, 0, 0, 0, 0],\n",
    "                [0, 0, 0, 0, 0, 0, 0, 0, 0]])\n",
    "\n",
    "\n",
    "sol =np.array([[2, 3, 6, 9, 4, 1, 8, 7, 5], \n",
    "               [9, 5, 4, 3, 7, 8, 6, 1, 2], \n",
    "               [8, 7, 1, 6, 2, 5, 4, 3, 9],  \n",
    "               [1, 8, 2, 4, 3, 9, 7, 5, 6],\n",
    "               [3, 9, 7, 8, 5, 6, 1, 2, 4],\n",
    "               [6, 4, 5, 2, 1, 7, 3, 9, 8],\n",
    "               [4, 1, 3, 5, 6, 2, 9, 8, 7],\n",
    "               [5, 6, 9, 7, 8, 3, 2, 4, 1],\n",
    "               [7, 2, 8, 1, 9, 4, 5, 6, 3]])\n",
    "\n",
    "#fix= sol\n",
    "\n",
    "rows = [4,33,20,17,26,10,16,24,0]\n",
    "cols = [8,4,17,35,14,13,3,10,25,0] "
   ]
  },
  {
   "cell_type": "code",
   "execution_count": 4,
   "metadata": {
    "id": "844RhDFpT1Wu"
   },
   "outputs": [],
   "source": [
    "X = np.array(IntVector('x', 9*9),dtype=object).reshape(9,9)\n",
    "s = Tactic('default').solver()\n",
    "\n",
    "# numbers between 1 & 9\n",
    "s += [And(e > 0  ,e <=9) for (i,j),e in np.ndenumerate(X)]\n",
    "\n",
    "# rows & columns\n",
    "s += And([Distinct([e for (i,j),e in np.ndenumerate(X) if i == n]) for n in range(9)])\n",
    "s += And([Distinct([e for (i,j),e in np.ndenumerate(X) if j == n]) for n in range(9)])\n",
    "\n",
    "# groups\n",
    "x= np.ones((3,3))\n",
    "groups = np.block([[x*0,x*1,x*2],[x*3,x*4,x*5],[x*6,x*7,x*8]])\n",
    "s += And([Distinct([e for (i,j),e in np.ndenumerate(X) if groups[i,j] == n]) for n in range(9)])\n",
    "\n",
    "# set fixed\n",
    "s += And([e == int(fix[i,j]) for (i,j),e in np.ndenumerate(X) if fix[i,j] != 0])  \n",
    "\n",
    "# sandwich \n",
    "s += [And([Implies(Or(And(X[i,n] == 9,X[j,n] == 1),And(X[i,n] == 1,X[j,n] == 9)),sum(X[i+1:j,n]) == cols[n]) for i in range(9) for j in range(9) if j > i ]) for n in range(9)]\n",
    "s += [And([Implies(Or(And(X[n,i] == 9,X[n,j] == 1),And(X[n,i] == 1,X[n,j] == 9)),sum(X[n,i+1:j]) == rows[n]) for i in range(9) for j in range(9) if j > i ]) for n in range(9)]\n"
   ]
  },
  {
   "cell_type": "code",
   "execution_count": 5,
   "metadata": {
    "id": "844RhDFpT1Wu"
   },
   "outputs": [
    {
     "name": "stdout",
     "output_type": "stream",
     "text": [
      "Solved in 824.0027 seconds\n"
     ]
    },
    {
     "data": {
      "image/png": "[encoded data removed]",
      "text/plain": [
       "<Figure size 288x288 with 1 Axes>"
      ]
     },
     "metadata": {
      "needs_background": "light"
     },
     "output_type": "display_data"
    }
   ],
   "source": [
    "start = time.time()\n",
    "if s.check() == sat:\n",
    "    m = s.model()\n",
    "    evalu = np.vectorize(lambda x:m.evaluate(x).as_long())\n",
    "    r =  evalu(X)\n",
    "    print(\"Solved in {:.4f} seconds\".format(time.time()-start))\n",
    "    sol_print(r)\n",
    "else:\n",
    "    print(\"Failed in {:.4f} seconds\".format(time.time()-start))"
   ]
  },
  {
   "cell_type": "code",
   "execution_count": null,
   "metadata": {},
   "outputs": [],
   "source": [
    "\n"
   ]
  },
  {
   "cell_type": "code",
   "execution_count": null,
   "metadata": {},
   "outputs": [],
   "source": []
  },
  {
   "cell_type": "code",
   "execution_count": null,
   "metadata": {},
   "outputs": [],
   "source": []
  }
 ],
 "metadata": {
  "colab": {
   "include_colab_link": true,
   "name": "JaneSt-Feb18.ipynb",
   "provenance": []
  },
  "kernelspec": {
   "display_name": "Python 3",
   "language": "python",
   "name": "python3"
  },
  "language_info": {
   "codemirror_mode": {
    "name": "ipython",
    "version": 3
   },
   "file_extension": ".py",
   "mimetype": "text/x-python",
   "name": "python",
   "nbconvert_exporter": "python",
   "pygments_lexer": "ipython3",
   "version": "3.7.10"
  }
 },
 "nbformat": 4,
 "nbformat_minor": 4
}
