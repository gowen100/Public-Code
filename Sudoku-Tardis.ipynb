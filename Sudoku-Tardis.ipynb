{
 "cells": [
  {
   "cell_type": "code",
   "execution_count": 78,
   "metadata": {
    "id": "Oq1xibzMT1Wl"
   },
   "outputs": [],
   "source": [
    "import numpy as np\n",
    "import pandas as pd\n",
    "import time\n",
    "import seaborn as sns\n",
    "import matplotlib.pyplot as plt\n",
    "from z3 import *\n",
    "from matplotlib.colors import ListedColormap\n",
    "from matplotlib.patches import Rectangle\n",
    "import itertools\n",
    "from IPython.display import HTML"
   ]
  },
  {
   "cell_type": "code",
   "execution_count": 81,
   "metadata": {
    "id": "Oq1xibzMT1Wl"
   },
   "outputs": [
    {
     "data": {
      "text/html": [
       "<iframe width=\"560\" height=\"315\" src=\"https://www.youtube.com/embed/G9H-K4ScuA8\" title=\"YouTube video player\" >"
      ],
      "text/plain": [
       "<IPython.core.display.HTML object>"
      ]
     },
     "execution_count": 81,
     "metadata": {},
     "output_type": "execute_result"
    }
   ],
   "source": [
    "HTML('<iframe width=\"560\" height=\"315\" src=\"https://www.youtube.com/embed/G9H-K4ScuA8\" title=\"YouTube video player\" >')"
   ]
  },
  {
   "cell_type": "code",
   "execution_count": 18,
   "metadata": {
    "id": "844RhDFpT1Wu"
   },
   "outputs": [],
   "source": [
    "fix = np.array([[0, 8, 0, 0, 0, 0, 0, 0, 0],\n",
    "                [0, 0, 0, 4, 0, 0, 0, 0, 7],\n",
    "                [0, 0, 0, 0, 0, 0, 0, 0, 0],\n",
    "                [0, 0, 0, 0, 0, 0, 0, 0, 0],\n",
    "                [0, 0, 0, 0, 0, 0, 0, 0, 0],\n",
    "                [0, 4, 0, 9, 0, 0, 0, 0, 0],\n",
    "                [0, 0, 0, 0, 0, 0, 0, 0, 0],\n",
    "                [0, 0, 0, 0, 0, 0, 0, 0, 0],\n",
    "                [0, 0, 5, 0, 0, 0, 0, 0, 0]])\n",
    "\n",
    "nodes = np.array([[0, 0, 0, 0, 0, 1, 0, 1, 0],\n",
    "                  [0, 0, 0, 0, 0, 0, 0, 0, 0],\n",
    "                  [0, 0, 2, 0, 0, 0, 0, 0, 0],\n",
    "                  [0, 0, 0, 0, 0, 0, 0, 2, 0],\n",
    "                  [0, 0, 0, 0, 0, 3, 0, 0, 0],\n",
    "                  [0, 0, 0, 0, 0, 0, 3, 0, 0],\n",
    "                  [0, 0, 0, 4, 0, 0, 0, 0, 0],\n",
    "                  [0, 0, 0, 0, 0, 0, 5, 0, 0],\n",
    "                  [4, 0, 5, 0, 0, 0, 0, 0, 0]])"
   ]
  },
  {
   "cell_type": "code",
   "execution_count": 19,
   "metadata": {
    "id": "844RhDFpT1Wu"
   },
   "outputs": [],
   "source": [
    "def sol_print(solution,edge_result,node):\n",
    "    colours = ['w','r','g','b','cyan','magenta']\n",
    "    x= np.ones((3,3))\n",
    "    groups = np.block([[x*0,x*1,x*2],[x*3,x*4,x*5],[x*6,x*7,x*8]])\n",
    "    fig,ax = plt.subplots(1,1,figsize=(5,5))\n",
    "    x = np.array(solution.astype('int').astype('str'))\n",
    "    x[x==\"0\"] =\"-\"\n",
    "    ax = sns.heatmap(node,annot=x,cbar=False,cmap=ListedColormap(colours),fmt=\"\",linewidths=1,\n",
    "                     linecolor='k',annot_kws={\"size\":14})\n",
    "    for i,j in itertools.product([n for n in[0,3,6]],repeat=2):\n",
    "        ax.add_patch(Rectangle((i,j),3,3,fill=False,edgecolor='k',lw=5))\n",
    "    for (i,j,k,l),e in edge_result.items():\n",
    "        if e>0:\n",
    "            ax.plot([j+0.5,l+0.5],[i+0.5,k+0.5],linewidth=3,color=colours[e])\n",
    "    \n",
    "    ax.axis(\"off\")    \n",
    "    plt.tight_layout()\n",
    "    plt.show()\n",
    "    \n",
    "\n",
    "def neigh(i,j,N):\n",
    "    return [[i+x,j+y] for (x,y) in [(-1,0),(0,-1),(1,0),(0,1)] if i+x>=0 and i+x <N and j+y>=0 and j+y <N ]"
   ]
  },
  {
   "cell_type": "code",
   "execution_count": 89,
   "metadata": {
    "id": "844RhDFpT1Wu"
   },
   "outputs": [
    {
     "name": "stdout",
     "output_type": "stream",
     "text": [
      "Took 1.49 secs\n"
     ]
    },
    {
     "data": {
      "image/png": "[encoded data removed]",
      "text/plain": [
       "<Figure size 360x360 with 1 Axes>"
      ]
     },
     "metadata": {
      "needs_background": "light"
     },
     "output_type": "display_data"
    },
    {
     "name": "stdout",
     "output_type": "stream",
     "text": [
      "Unique: True\n"
     ]
    }
   ],
   "source": [
    "N = 9\n",
    "M = int(np.max(nodes))\n",
    "\n",
    "s = Tactic(\"pqffd\").solver()\n",
    "X = np.array(IntVector('x', N*N),dtype=object).reshape((N,N))\n",
    "\n",
    "#standard rules\n",
    "s += [And(e>0,e<10) for (i,j),e in np.ndenumerate(X)]\n",
    "s += [Distinct([e for (i,j),e in np.ndenumerate(X) if i == n]) for n in range(N)]\n",
    "s += [Distinct([e for (i,j),e in np.ndenumerate(X) if j == n]) for n in range(N)]\n",
    "\n",
    "groups = np.block([[np.ones((3,3),dtype=int)*(i+j*3) for i in range(3)]for j in range(3)])\n",
    "s += [Distinct([e for (i,j),e in np.ndenumerate(X) if groups[i,j] == n]) for n in range(N)]\n",
    "\n",
    "#given numbers\n",
    "s += And([e == int(fix[i,j]) for (i,j),e in np.ndenumerate(X) if fix[i,j] != 0])  \n",
    "\n",
    "# set up edges\n",
    "edge = {}\n",
    "for i in range(N):\n",
    "    for j in range(N):  \n",
    "        for (k,l) in neigh(i,j,N) :\n",
    "            edge[(i,j,k,l)] = Int(\"e%d%d%d%d\" % (i,j,k,l))\n",
    "\n",
    "s += [And(e>=0,e<=M) for _,e in edge.items()]\n",
    "\n",
    "#few utility functions to make the constraints easier to read\n",
    "total_in = lambda i,j:Sum([If(edge[(i,j,k,l)] >0,1,0) for (k,l) in neigh(i,j,N)])\n",
    "total_out = lambda i,j:Sum([If(edge[(k,l,i,j)] >0,1,0) for (k,l) in neigh(i,j,N)])\n",
    "total_both = lambda i,j:total_in(i,j)+total_out(i,j)\n",
    "\n",
    "num_in = lambda i,j,v:Sum([If(edge[(i,j,k,l)] ==v,1,0) for (k,l) in neigh(i,j,N)])\n",
    "num_out = lambda i,j,v:Sum([If(edge[(k,l,i,j)] ==v,1,0) for (k,l) in neigh(i,j,N)])\n",
    "num_both = lambda i,j,v:num_in(i,j,v)+num_out(i,j,v)\n",
    "\n",
    "between = lambda a,b,x:Or(And(x>a,x<b),And(x<a,x>b))\n",
    "\n",
    "for i in range(N):\n",
    "    for j in range(N):           \n",
    "        # Make edges one way to form a tree\n",
    "        s += [Or(edge[(i,j,k,l)] ==0, edge[(k,l,i,j)]== 0) for(k,l) in neigh(i,j,N)]\n",
    "            \n",
    "        if nodes[i,j] > 0: \n",
    "            # nodes either have one in or one out equal to node number\n",
    "            num = int(nodes[i,j])\n",
    "            s += Or([Or(edge[(i,j,k,l)] == num, edge[(k,l,i,j)] == num) for (k,l) in neigh(i,j,N)])\n",
    "            s += total_both(i,j) == 1\n",
    "        else:\n",
    "            #others either no or 2 edges\n",
    "            s+= Or(total_in(i,j) ==0,total_in(i,j) ==1)\n",
    "            s+= Or(total_out(i,j) ==0,total_out(i,j) ==1)\n",
    "                        \n",
    "            for v in range(1,M+1):\n",
    "                #num in == num out\n",
    "                s += Implies(num_in(i,j,v) >0,num_out(i,j,v) >0)\n",
    "                s += Implies(num_out(i,j,v) >0,num_in(i,j,v) >0)\n",
    "                #between condition\n",
    "                a,b = X[nodes==v]\n",
    "                s += Implies(num_in(i,j,v) > 0, between(a,b,X[i,j]))\n",
    "    \n",
    "        #no 2x2\n",
    "        if (i < N-1) and (j < N-1):\n",
    "            s+=Implies(num_both(i,j,v) > 0, Or(num_both(i+1,j,v) ==0,num_both(i,j+1,v) ==0,num_both(i+1,j+1,v) ==0))\n",
    "                    \n",
    "start = time.time()\n",
    "evalu = np.vectorize(lambda x :m.evaluate(x).as_long())\n",
    "if s.check() == sat:\n",
    "    print(\"Took {:.2f} secs\".format(time.time()-start))\n",
    "    m = s.model()\n",
    "    result = evalu(X)\n",
    "    edge_result = {(i,j,k,l):evalu(e) for (i,j,k,l),e in edge.items()}\n",
    "\n",
    "    sol_print(result,edge_result,nodes)\n",
    "else:\n",
    "    print(\"Failed in {:.2f} seconds\".format(time.time()-start))\n",
    "\n",
    "#test if unique   \n",
    "s += Or([int(e) != X[i,j] for (i,j),e in np.ndenumerate(result)])\n",
    "print(\"Unique:\",not(s.check() == sat))"
   ]
  },
  {
   "cell_type": "code",
   "execution_count": 84,
   "metadata": {},
   "outputs": [],
   "source": []
  },
  {
   "cell_type": "code",
   "execution_count": 86,
   "metadata": {},
   "outputs": [
    {
     "data": {
      "text/plain": [
       "False"
      ]
     },
     "execution_count": 86,
     "metadata": {},
     "output_type": "execute_result"
    }
   ],
   "source": [
    "s.check() == sat"
   ]
  },
  {
   "cell_type": "code",
   "execution_count": null,
   "metadata": {},
   "outputs": [],
   "source": []
  }
 ],
 "metadata": {
  "colab": {
   "include_colab_link": true,
   "name": "JaneSt-Feb18.ipynb",
   "provenance": []
  },
  "kernelspec": {
   "display_name": "Python 3 (ipykernel)",
   "language": "python",
   "name": "python3"
  },
  "language_info": {
   "codemirror_mode": {
    "name": "ipython",
    "version": 3
   },
   "file_extension": ".py",
   "mimetype": "text/x-python",
   "name": "python",
   "nbconvert_exporter": "python",
   "pygments_lexer": "ipython3",
   "version": "3.9.12"
  }
 },
 "nbformat": 4,
 "nbformat_minor": 4
}
