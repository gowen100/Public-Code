{
 "cells": [
  {
   "cell_type": "code",
   "execution_count": 1,
   "id": "0744fd20-56d2-4c3d-b4c4-dadea389c003",
   "metadata": {},
   "outputs": [],
   "source": [
    "import sqlalchemy as db\n",
    "import pandas as pd"
   ]
  },
  {
   "cell_type": "code",
   "execution_count": 2,
   "id": "ee4c2c15-d911-47c8-8a04-f03c2d1d7c71",
   "metadata": {},
   "outputs": [],
   "source": [
    "#create a sqlite database\n",
    "engine=db.create_engine('sqlite:///database.db',echo=False)\n",
    "md = db.MetaData()\n",
    "connection = engine.connect()\n",
    "\n",
    "# pull in the ecde cases data and dump to the database.\n",
    "url = 'https://www.ecdc.europa.eu/en/cases-2019-ncov-eueea'\n",
    "df = pd.read_html(url,header=0)[0]\n",
    "sqlite_table = 'Test'\n",
    "df.to_sql(sqlite_table, connection, if_exists='fail')"
   ]
  },
  {
   "cell_type": "code",
   "execution_count": 3,
   "id": "94c3f495-42f8-434e-8ea0-cc5689039ffc",
   "metadata": {},
   "outputs": [
    {
     "data": {
      "text/html": [
       "<div>\n",
       "<style scoped>\n",
       "    .dataframe tbody tr th:only-of-type {\n",
       "        vertical-align: middle;\n",
       "    }\n",
       "\n",
       "    .dataframe tbody tr th {\n",
       "        vertical-align: top;\n",
       "    }\n",
       "\n",
       "    .dataframe thead th {\n",
       "        text-align: right;\n",
       "    }\n",
       "</style>\n",
       "<table border=\"1\" class=\"dataframe\">\n",
       "  <thead>\n",
       "    <tr style=\"text-align: right;\">\n",
       "      <th></th>\n",
       "      <th>index</th>\n",
       "      <th>Country</th>\n",
       "      <th>Cases</th>\n",
       "      <th>Deaths</th>\n",
       "      <th>Date of data collection</th>\n",
       "    </tr>\n",
       "  </thead>\n",
       "  <tbody>\n",
       "    <tr>\n",
       "      <th>0</th>\n",
       "      <td>0</td>\n",
       "      <td>Austria</td>\n",
       "      <td>1211208</td>\n",
       "      <td>12612</td>\n",
       "      <td>09/12/2021</td>\n",
       "    </tr>\n",
       "    <tr>\n",
       "      <th>1</th>\n",
       "      <td>1</td>\n",
       "      <td>Belgium</td>\n",
       "      <td>1898403</td>\n",
       "      <td>27416</td>\n",
       "      <td>07/12/2021</td>\n",
       "    </tr>\n",
       "    <tr>\n",
       "      <th>2</th>\n",
       "      <td>2</td>\n",
       "      <td>Bulgaria</td>\n",
       "      <td>709537</td>\n",
       "      <td>29279</td>\n",
       "      <td>09/12/2021</td>\n",
       "    </tr>\n",
       "    <tr>\n",
       "      <th>3</th>\n",
       "      <td>3</td>\n",
       "      <td>Croatia</td>\n",
       "      <td>639778</td>\n",
       "      <td>11383</td>\n",
       "      <td>09/12/2021</td>\n",
       "    </tr>\n",
       "    <tr>\n",
       "      <th>4</th>\n",
       "      <td>4</td>\n",
       "      <td>Cyprus</td>\n",
       "      <td>138733</td>\n",
       "      <td>605</td>\n",
       "      <td>09/12/2021</td>\n",
       "    </tr>\n",
       "  </tbody>\n",
       "</table>\n",
       "</div>"
      ],
      "text/plain": [
       "   index   Country    Cases  Deaths Date of data collection\n",
       "0      0   Austria  1211208   12612              09/12/2021\n",
       "1      1   Belgium  1898403   27416              07/12/2021\n",
       "2      2  Bulgaria   709537   29279              09/12/2021\n",
       "3      3   Croatia   639778   11383              09/12/2021\n",
       "4      4    Cyprus   138733     605              09/12/2021"
      ]
     },
     "execution_count": 3,
     "metadata": {},
     "output_type": "execute_result"
    }
   ],
   "source": [
    "query = 'select * from TEST'\n",
    "result = pd.read_sql(query,engine)\n",
    "result[:5]"
   ]
  },
  {
   "cell_type": "code",
   "execution_count": 4,
   "id": "d3622eef-db64-4159-a404-cf4be82fd2c8",
   "metadata": {},
   "outputs": [
    {
     "name": "stdout",
     "output_type": "stream",
     "text": [
      "['index', 'Country', 'Cases', 'Deaths', 'Date of data collection']\n"
     ]
    },
    {
     "data": {
      "text/html": [
       "<div>\n",
       "<style scoped>\n",
       "    .dataframe tbody tr th:only-of-type {\n",
       "        vertical-align: middle;\n",
       "    }\n",
       "\n",
       "    .dataframe tbody tr th {\n",
       "        vertical-align: top;\n",
       "    }\n",
       "\n",
       "    .dataframe thead th {\n",
       "        text-align: right;\n",
       "    }\n",
       "</style>\n",
       "<table border=\"1\" class=\"dataframe\">\n",
       "  <thead>\n",
       "    <tr style=\"text-align: right;\">\n",
       "      <th></th>\n",
       "      <th>Date of data collection</th>\n",
       "      <th>sum_1</th>\n",
       "    </tr>\n",
       "  </thead>\n",
       "  <tbody>\n",
       "    <tr>\n",
       "      <th>0</th>\n",
       "      <td>07/12/2021</td>\n",
       "      <td>8368061</td>\n",
       "    </tr>\n",
       "    <tr>\n",
       "      <th>1</th>\n",
       "      <td>08/12/2021</td>\n",
       "      <td>1251457</td>\n",
       "    </tr>\n",
       "    <tr>\n",
       "      <th>2</th>\n",
       "      <td>09/12/2021</td>\n",
       "      <td>39451416</td>\n",
       "    </tr>\n",
       "  </tbody>\n",
       "</table>\n",
       "</div>"
      ],
      "text/plain": [
       "  Date of data collection     sum_1\n",
       "0              07/12/2021   8368061\n",
       "1              08/12/2021   1251457\n",
       "2              09/12/2021  39451416"
      ]
     },
     "execution_count": 4,
     "metadata": {},
     "output_type": "execute_result"
    }
   ],
   "source": [
    "tbl = db.Table('Test',md,autoload=True,autoload_with=engine)\n",
    "\n",
    "print([i.name for i in tbl.columns])\n",
    "\n",
    "pick = [tbl.c['Date of data collection']]\n",
    "\n",
    "query= db.select([*pick,db.func.sum(tbl.c['Cases'])\n",
    "                 ]). \\\n",
    "        group_by(*pick). \\\n",
    "        order_by(*pick)\n",
    "\n",
    "result = pd.read_sql(query,engine)\n",
    "result[:5]"
   ]
  },
  {
   "cell_type": "code",
   "execution_count": 5,
   "id": "df710ebb-ec9e-4f7f-a956-44a6a1b74077",
   "metadata": {},
   "outputs": [
    {
     "data": {
      "text/html": [
       "<div>\n",
       "<style scoped>\n",
       "    .dataframe tbody tr th:only-of-type {\n",
       "        vertical-align: middle;\n",
       "    }\n",
       "\n",
       "    .dataframe tbody tr th {\n",
       "        vertical-align: top;\n",
       "    }\n",
       "\n",
       "    .dataframe thead th {\n",
       "        text-align: right;\n",
       "    }\n",
       "</style>\n",
       "<table border=\"1\" class=\"dataframe\">\n",
       "  <thead>\n",
       "    <tr style=\"text-align: right;\">\n",
       "      <th></th>\n",
       "      <th>Date of data collection</th>\n",
       "      <th>Belgium</th>\n",
       "      <th>Spain</th>\n",
       "    </tr>\n",
       "  </thead>\n",
       "  <tbody>\n",
       "    <tr>\n",
       "      <th>0</th>\n",
       "      <td>09/12/2021</td>\n",
       "      <td>0</td>\n",
       "      <td>0</td>\n",
       "    </tr>\n",
       "    <tr>\n",
       "      <th>1</th>\n",
       "      <td>07/12/2021</td>\n",
       "      <td>1898403</td>\n",
       "      <td>0</td>\n",
       "    </tr>\n",
       "    <tr>\n",
       "      <th>2</th>\n",
       "      <td>09/12/2021</td>\n",
       "      <td>0</td>\n",
       "      <td>0</td>\n",
       "    </tr>\n",
       "    <tr>\n",
       "      <th>3</th>\n",
       "      <td>09/12/2021</td>\n",
       "      <td>0</td>\n",
       "      <td>0</td>\n",
       "    </tr>\n",
       "    <tr>\n",
       "      <th>4</th>\n",
       "      <td>09/12/2021</td>\n",
       "      <td>0</td>\n",
       "      <td>0</td>\n",
       "    </tr>\n",
       "  </tbody>\n",
       "</table>\n",
       "</div>"
      ],
      "text/plain": [
       "  Date of data collection  Belgium  Spain\n",
       "0              09/12/2021        0      0\n",
       "1              07/12/2021  1898403      0\n",
       "2              09/12/2021        0      0\n",
       "3              09/12/2021        0      0\n",
       "4              09/12/2021        0      0"
      ]
     },
     "execution_count": 5,
     "metadata": {},
     "output_type": "execute_result"
    }
   ],
   "source": [
    "query= db.select([*pick,\n",
    "                  db.case([(tbl.c['Country']=='Belgium',tbl.c['Cases'])]\n",
    "                          ,else_=0).label('Belgium'),\n",
    "                  db.case([(tbl.c['Country']=='Spain',tbl.c['Cases'])]\n",
    "                          ,else_=0).label('Spain'),\n",
    "                 ])\n",
    "\n",
    "result = pd.read_sql(query,engine)\n",
    "result[:5]"
   ]
  },
  {
   "cell_type": "code",
   "execution_count": 6,
   "id": "193400d0-0779-4048-b10b-0f3d9c4a482c",
   "metadata": {},
   "outputs": [
    {
     "data": {
      "text/html": [
       "<div>\n",
       "<style scoped>\n",
       "    .dataframe tbody tr th:only-of-type {\n",
       "        vertical-align: middle;\n",
       "    }\n",
       "\n",
       "    .dataframe tbody tr th {\n",
       "        vertical-align: top;\n",
       "    }\n",
       "\n",
       "    .dataframe thead th {\n",
       "        text-align: right;\n",
       "    }\n",
       "</style>\n",
       "<table border=\"1\" class=\"dataframe\">\n",
       "  <thead>\n",
       "    <tr style=\"text-align: right;\">\n",
       "      <th></th>\n",
       "      <th>Distinct_countries</th>\n",
       "    </tr>\n",
       "  </thead>\n",
       "  <tbody>\n",
       "    <tr>\n",
       "      <th>0</th>\n",
       "      <td>30</td>\n",
       "    </tr>\n",
       "  </tbody>\n",
       "</table>\n",
       "</div>"
      ],
      "text/plain": [
       "   Distinct_countries\n",
       "0                  30"
      ]
     },
     "execution_count": 6,
     "metadata": {},
     "output_type": "execute_result"
    }
   ],
   "source": [
    "query= db.select([db.func.count(db.distinct(tbl.c['Country'])).label('Distinct_countries')\n",
    "                 ])\n",
    "\n",
    "result = pd.read_sql(query,engine)\n",
    "result[:5]"
   ]
  },
  {
   "cell_type": "code",
   "execution_count": null,
   "id": "51d00fd7-5e68-4182-b61e-7742c067b9ba",
   "metadata": {},
   "outputs": [],
   "source": []
  }
 ],
 "metadata": {
  "kernelspec": {
   "display_name": "Python 3",
   "language": "python",
   "name": "python3"
  },
  "language_info": {
   "codemirror_mode": {
    "name": "ipython",
    "version": 3
   },
   "file_extension": ".py",
   "mimetype": "text/x-python",
   "name": "python",
   "nbconvert_exporter": "python",
   "pygments_lexer": "ipython3",
   "version": "3.7.10"
  }
 },
 "nbformat": 4,
 "nbformat_minor": 5
}
