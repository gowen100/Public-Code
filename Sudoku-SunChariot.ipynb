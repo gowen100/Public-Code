{
 "cells": [
  {
   "cell_type": "code",
   "execution_count": 1,
   "metadata": {
    "id": "Oq1xibzMT1Wl"
   },
   "outputs": [],
   "source": [
    "import numpy as np\n",
    "import pandas as pd\n",
    "import time\n",
    "import seaborn as sns\n",
    "import matplotlib.pyplot as plt\n",
    "import requests\n",
    "from bs4 import BeautifulSoup\n",
    "import itertools\n",
    "from copy import deepcopy as dcopy\n",
    "from z3 import *"
   ]
  },
  {
   "cell_type": "markdown",
   "metadata": {
    "id": "U9Yh1D3HT1Ws"
   },
   "source": [
    "<img src=\"https://logic-masters.de/Dateien/bild.php?data=da58bd94-10923-303030355a482d31\" width=\"450\">"
   ]
  },
  {
   "cell_type": "code",
   "execution_count": 2,
   "metadata": {
    "id": "844RhDFpT1Wu"
   },
   "outputs": [],
   "source": [
    "def sol_print(solution):\n",
    "    x= np.ones((3,3))\n",
    "    groups = np.block([[x*0,x*1,x*2],[x*3,x*4,x*5],[x*6,x*7,x*8]])\n",
    "    fig,ax = plt.subplots(1,1,figsize=(4,4))\n",
    "    count = 0\n",
    "    x = np.array(solution.astype('int').astype('str'))\n",
    "    x[x==\"0\"] =\"-\"\n",
    "    y = groups\n",
    "    ax = sns.heatmap(y,annot=x,cbar=False,cmap=\"tab20\",fmt=\"\",vmin=0,vmax=19,linewidths=1,annot_kws={\"size\":14})\n",
    "    ax.axis(\"off\")    \n",
    "    plt.tight_layout()\n",
    "    plt.show()"
   ]
  },
  {
   "cell_type": "code",
   "execution_count": 3,
   "metadata": {
    "id": "844RhDFpT1Wu"
   },
   "outputs": [],
   "source": [
    "soln =[[7,5,3,8,1,2,6,9,4],\n",
    "       [2,9,8,4,7,6,3,5,1],\n",
    "       [6,1,4,5,9,3,8,7,2],\n",
    "       [5,4,7,9,3,8,1,2,6],\n",
    "       [9,8,6,7,2,1,5,4,3],\n",
    "       [3,2,1,6,4,5,9,8,7],\n",
    "       [4,7,5,3,6,9,2,1,8],\n",
    "       [1,6,9,2,8,7,4,3,5],\n",
    "       [8,3,2,1,5,4,7,6,9]]"
   ]
  },
  {
   "cell_type": "code",
   "execution_count": 5,
   "metadata": {
    "id": "844RhDFpT1Wu"
   },
   "outputs": [
    {
     "name": "stdout",
     "output_type": "stream",
     "text": [
      "Solved in 2131.998417854309 seconds\n"
     ]
    },
    {
     "data": {
      "image/png": "[encoded data removed]",
      "text/plain": [
       "<Figure size 288x288 with 1 Axes>"
      ]
     },
     "metadata": {
      "needs_background": "light"
     },
     "output_type": "display_data"
    }
   ],
   "source": [
    "def z3_sudoku(grid,fixed):\n",
    "\n",
    "    # 9x9 matrix of integer variables\n",
    "    X = [ [Int(\"x_%s_%s\" % (i+1, j+1)) for j in range(9) ]  for i in range(9) ]\n",
    "\n",
    "    # each cell contains a value in {1, ..., 9}\n",
    "    cells_c  = [ And(1 <= X[i][j], X[i][j] <= 9)\n",
    "             for i in range(9) for j in range(9) ]\n",
    "\n",
    "    # each row contains a digit at most once\n",
    "    rows_c   = [ Distinct(X[i]) for i in range(9) ]\n",
    "\n",
    "    # each column contains a digit at most once\n",
    "    cols_c   = [ Distinct([ X[i][j] for i in range(9) ])\n",
    "             for j in range(9) ]\n",
    "\n",
    "    # each 3x3 square contains a digit at most once\n",
    "    sq_c     = [ Distinct([ X[3*i0 + i][3*j0 + j]\n",
    "                        for i in range(3) for j in range(3) ])\n",
    "             for i0 in range(3) for j0 in range(3) ]\n",
    "\n",
    "    sudoku_c = cells_c + rows_c + cols_c + sq_c\n",
    "\n",
    "    s = Solver()\n",
    "    s.add(sudoku_c)\n",
    "    \n",
    "    \n",
    "    knight_moves = [f(i,j) for i,j in itertools.product([1, -1],[2,-2]) for f in [lambda i,j:(i,j),lambda i,j:(j,i)]]\n",
    "    \n",
    "    s+= [X[i][j] != X[i+a][j+b] for a,b in knight_moves for i in range(9) for j in range(9) \n",
    "                    if i+a >=0 and i+a<9 and j+b >=0 and j+b<9]\n",
    "\n",
    "    s += Sum([X[4+i][0+i] for i in range(5)]) == 23\n",
    "    s += Sum([X[0+i][5-i] for i in range(6)]) == 32\n",
    "    \n",
    "    s+= Sum([X[5][0+i] for i in range(3)]) == X[5][3]\n",
    "    s+= X[4][2]==X[5][3]\n",
    "    s+= X[6][4]==X[5][3]\n",
    "    s+= Sum([X[6+i][3] for i in range(3)]) == X[5][3]\n",
    "    s+= Sum([X[4][4],X[3][4],X[4][5]]) == X[5][3]\n",
    "    \n",
    "    s+= X[3][2] == X[4][3]\n",
    "    \n",
    "    s+= X[5][7] == X[6][8]\n",
    "    \n",
    "    s+= Or(X[0][4]/X[0][5] ==2,X[0][5]/X[0][4] == 2)\n",
    "    s+= Or(X[0][6]/X[1][6] ==2,X[1][6]/X[0][6] == 2)\n",
    "    s+= Or(X[3][8]/X[4][8] ==2,X[4][8]/X[3][8] == 2)\n",
    "    s+= Or(X[6][6]/X[6][7] ==2,X[6][7]/X[6][6] == 2)\n",
    "    s+= Or(X[6][6]/X[7][6] ==2,X[7][6]/X[6][6] == 2)\n",
    "    \n",
    "    s += Sum([X[1][4],X[1][5],X[2][4],X[2][5],X[3][5],X[3][6],X[3][7],X[4][6],X[4][7]]) == 45\n",
    "    \n",
    "    start = time.time()\n",
    "    if s.check() == sat:\n",
    "        m = s.model()\n",
    "        r = [ [ m.evaluate(X[i][j]).as_long() for j in range(9) ]\n",
    "                 for i in range(9) ]\n",
    "        print(\"Solved in {} seconds\".format(time.time()-start))\n",
    "        sol_print(np.array(r))\n",
    "\n",
    "    else:\n",
    "        print(\"Failed in {} seconds\".format(time.time()-start))\n",
    "\n",
    "z3_sudoku(np.zeros((9,9)),soln)"
   ]
  },
  {
   "cell_type": "code",
   "execution_count": 6,
   "metadata": {},
   "outputs": [
    {
     "data": {
      "text/plain": [
       "35.53333333333333"
      ]
     },
     "execution_count": 6,
     "metadata": {},
     "output_type": "execute_result"
    }
   ],
   "source": [
    "2132/60"
   ]
  },
  {
   "cell_type": "code",
   "execution_count": null,
   "metadata": {},
   "outputs": [],
   "source": []
  }
 ],
 "metadata": {
  "colab": {
   "include_colab_link": true,
   "name": "JaneSt-Feb18.ipynb",
   "provenance": []
  },
  "kernelspec": {
   "display_name": "Python 3",
   "language": "python",
   "name": "python3"
  },
  "language_info": {
   "codemirror_mode": {
    "name": "ipython",
    "version": 3
   },
   "file_extension": ".py",
   "mimetype": "text/x-python",
   "name": "python",
   "nbconvert_exporter": "python",
   "pygments_lexer": "ipython3",
   "version": "3.7.10"
  }
 },
 "nbformat": 4,
 "nbformat_minor": 4
}
