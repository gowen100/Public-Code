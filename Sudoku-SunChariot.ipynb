{
 "cells": [
  {
   "cell_type": "code",
   "execution_count": 3,
   "metadata": {
    "id": "Oq1xibzMT1Wl"
   },
   "outputs": [],
   "source": [
    "import numpy as np\n",
    "import pandas as pd\n",
    "import time\n",
    "import seaborn as sns\n",
    "import matplotlib.pyplot as plt\n",
    "import requests\n",
    "from bs4 import BeautifulSoup\n",
    "import itertools\n",
    "from copy import deepcopy as dcopy\n",
    "from z3 import *"
   ]
  },
  {
   "cell_type": "markdown",
   "metadata": {
    "id": "U9Yh1D3HT1Ws"
   },
   "source": [
    "<img src=\"https://logic-masters.de/Dateien/bild.php?data=da58bd94-10923-303030355a482d31\" width=\"450\">"
   ]
  },
  {
   "cell_type": "code",
   "execution_count": 16,
   "metadata": {
    "id": "844RhDFpT1Wu"
   },
   "outputs": [
    {
     "name": "stdout",
     "output_type": "stream",
     "text": [
      "Took 1.3324642181396484 secs\n"
     ]
    },
    {
     "data": {
      "image/png": "[encoded data removed]",
      "text/plain": [
       "<Figure size 288x288 with 1 Axes>"
      ]
     },
     "metadata": {
      "needs_background": "light"
     },
     "output_type": "display_data"
    }
   ],
   "source": [
    "def z3_sudoku(grid):\n",
    "    s = Tactic(\"pqffd\").solver()\n",
    "    N =9\n",
    "    X = np.array(IntVector('x', N*N),dtype=object).reshape((N,N))\n",
    "\n",
    "    #standard rules\n",
    "    s += [And(e>0,e<10) for (i,j),e in np.ndenumerate(X)]\n",
    "    s += [Distinct([e for (i,j),e in np.ndenumerate(X) if i == n]) for n in range(N)]\n",
    "    s += [Distinct([e for (i,j),e in np.ndenumerate(X) if j == n]) for n in range(N)]\n",
    "    \n",
    "    groups = np.block([[np.ones((3,3),dtype=int)*(i+j*3) for i in range(3)]for j in range(3)])\n",
    "    s += [Distinct([e for (i,j),e in np.ndenumerate(X) if groups[i,j] == n]) for n in range(N)]\n",
    "    \n",
    "    #knight moves\n",
    "    knight_moves = [f(i,j) for i,j in itertools.product([1, -1],[2,-2]) for f in [lambda i,j:(i,j),lambda i,j:(j,i)]]\n",
    "    s+= [e != X[i+a,j+b] for a,b in knight_moves for (i,j),e in np.ndenumerate(X) \n",
    "                    if i+a >=0 and i+a<9 and j+b >=0 and j+b<9]\n",
    "   \n",
    "    # diagonal sums\n",
    "    s += Sum([X[4+i,i] for i in range(5)]) == 23\n",
    "    s += Sum([X[i,5-i] for i in range(6)]) == 32\n",
    "    \n",
    "    #arrows\n",
    "    s+= X[3,2] == X[4,3]    \n",
    "    s+= X[5,7] == X[6,8]\n",
    "    \n",
    "    s+= Sum([X[5,i] for i in range(3)]) == X[5,3]\n",
    "    s+= X[4,2]==X[5,3]\n",
    "    s+= X[6,4]==X[5,3]\n",
    "    s+= Sum([X[6+i,3] for i in range(3)]) == X[5,3]\n",
    "    s+= Sum([X[4,4],X[3,4],X[4,5]]) == X[5,3]\n",
    "       \n",
    "    # box\n",
    "    s += Distinct([X[1,4],X[1,5],X[2,4],X[2,5],X[3,5],X[3,6],X[3,7],X[4,6],X[4,7]])\n",
    "    \n",
    "    #dots\n",
    "    dot = lambda a,b,c,d : Or(X[a,b]== X[c,d]+X[c,d],X[c,d]==X[a,b]+X[a,b])\n",
    "    s+= dot(0,4,0,5)\n",
    "    s+= dot(0,6,1,6)\n",
    "    s+= dot(3,8,4,8)\n",
    "    s+= dot(6,6,6,7)\n",
    "    s+= dot(6,6,7,6)\n",
    "    \n",
    "    start = time.time()\n",
    "    evalu = np.vectorize(lambda x :m.evaluate(x).as_long())\n",
    "    if s.check() == sat:\n",
    "        print(\"Took {} secs\".format(time.time()-start))\n",
    "        m = s.model()\n",
    "        result = evalu(X)\n",
    "        fig,ax = plt.subplots(1,1,figsize=(4,4))        \n",
    "        ax = sns.heatmap(groups,annot=result,cbar=False,\n",
    "                         cmap=\"tab10\",linecolor=\"k\",linewidths=1,annot_kws={\"size\":12},alpha =.8)\n",
    "        ax.axis(\"off\")\n",
    "    else:\n",
    "        print(\"Failed in {} seconds\".format(time.time()-start))\n",
    "\n",
    "z3_sudoku(np.zeros((9,9)))"
   ]
  },
  {
   "cell_type": "code",
   "execution_count": 5,
   "metadata": {},
   "outputs": [],
   "source": [
    "soln =[[7,5,3,8,1,2,6,9,4],\n",
    "       [2,9,8,4,7,6,3,5,1],\n",
    "       [6,1,4,5,9,3,8,7,2],\n",
    "       [5,4,7,9,3,8,1,2,6],\n",
    "       [9,8,6,7,2,1,5,4,3],\n",
    "       [3,2,1,6,4,5,9,8,7],\n",
    "       [4,7,5,3,6,9,2,1,8],\n",
    "       [1,6,9,2,8,7,4,3,5],\n",
    "       [8,3,2,1,5,4,7,6,9]]"
   ]
  },
  {
   "cell_type": "code",
   "execution_count": null,
   "metadata": {},
   "outputs": [],
   "source": []
  }
 ],
 "metadata": {
  "colab": {
   "include_colab_link": true,
   "name": "JaneSt-Feb18.ipynb",
   "provenance": []
  },
  "kernelspec": {
   "display_name": "Python 3 (ipykernel)",
   "language": "python",
   "name": "python3"
  },
  "language_info": {
   "codemirror_mode": {
    "name": "ipython",
    "version": 3
   },
   "file_extension": ".py",
   "mimetype": "text/x-python",
   "name": "python",
   "nbconvert_exporter": "python",
   "pygments_lexer": "ipython3",
   "version": "3.7.12"
  }
 },
 "nbformat": 4,
 "nbformat_minor": 4
}
