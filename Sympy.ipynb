{
 "cells": [
  {
   "cell_type": "code",
   "execution_count": 1,
   "id": "099029a5-7d20-4021-8a94-a5976b263019",
   "metadata": {},
   "outputs": [],
   "source": [
    "import sympy as sy"
   ]
  },
  {
   "cell_type": "code",
   "execution_count": 2,
   "id": "bea3b5b7-447b-4596-9202-63c3ad72bfd3",
   "metadata": {},
   "outputs": [],
   "source": [
    "A,w,b,h = sy.symbols(\"A w b h\")"
   ]
  },
  {
   "cell_type": "code",
   "execution_count": 3,
   "id": "87b213c8-acb8-4c2c-b43e-587a6465ec5b",
   "metadata": {},
   "outputs": [],
   "source": [
    "exp= sy.Eq(A,2*w*b+2*w*h+2*b*h)"
   ]
  },
  {
   "cell_type": "code",
   "execution_count": 4,
   "id": "081ad31a-34d3-46ca-84c7-0a271dbd4f33",
   "metadata": {},
   "outputs": [
    {
     "data": {
      "text/latex": [
       "$\\displaystyle b = \\frac{\\frac{A}{2} - h w}{h + w}$"
      ],
      "text/plain": [
       "Eq(b, (A/2 - h*w)/(h + w))"
      ]
     },
     "execution_count": 4,
     "metadata": {},
     "output_type": "execute_result"
    }
   ],
   "source": [
    "sy.Eq(b,sy.solve(exp,b)[0])"
   ]
  },
  {
   "cell_type": "code",
   "execution_count": 11,
   "id": "d54c3e40-fef0-4a74-bf89-224e2a137693",
   "metadata": {},
   "outputs": [
    {
     "data": {
      "text/latex": [
       "$\\displaystyle \\frac{p q}{\\frac{p}{q} + \\frac{1}{q}} = q^{2} - 1$"
      ],
      "text/plain": [
       "Eq(p*q/(p/q + 1/q), q**2 - 1)"
      ]
     },
     "metadata": {},
     "output_type": "display_data"
    },
    {
     "data": {
      "text/latex": [
       "$\\displaystyle p = q^{2} - 1$"
      ],
      "text/plain": [
       "Eq(p, q**2 - 1)"
      ]
     },
     "execution_count": 11,
     "metadata": {},
     "output_type": "execute_result"
    }
   ],
   "source": [
    "p,q = sy.symbols(\"p q\")\n",
    "exp= sy.Eq(p*q/(p/q+1/q),q*q -1)\n",
    "display(exp)\n",
    "sy.Eq(p,sy.solve(exp,p)[0])"
   ]
  },
  {
   "cell_type": "code",
   "execution_count": 12,
   "id": "0103e2a6-1aab-448f-8c52-1aedffa1e9ef",
   "metadata": {},
   "outputs": [
    {
     "data": {
      "text/latex": [
       "$\\displaystyle 2 q$"
      ],
      "text/plain": [
       "2*q"
      ]
     },
     "execution_count": 12,
     "metadata": {},
     "output_type": "execute_result"
    }
   ],
   "source": [
    "sy.diff(sy.solve(exp,p)[0],q)\n"
   ]
  },
  {
   "cell_type": "code",
   "execution_count": null,
   "id": "f9baec19-191e-445b-be63-beae7392069a",
   "metadata": {},
   "outputs": [],
   "source": []
  }
 ],
 "metadata": {
  "kernelspec": {
   "display_name": "Python 3",
   "language": "python",
   "name": "python3"
  },
  "language_info": {
   "codemirror_mode": {
    "name": "ipython",
    "version": 3
   },
   "file_extension": ".py",
   "mimetype": "text/x-python",
   "name": "python",
   "nbconvert_exporter": "python",
   "pygments_lexer": "ipython3",
   "version": "3.7.10"
  }
 },
 "nbformat": 4,
 "nbformat_minor": 5
}
