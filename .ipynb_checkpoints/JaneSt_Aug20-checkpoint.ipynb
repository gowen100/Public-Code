{
 "cells": [
  {
   "cell_type": "code",
   "execution_count": 1,
   "metadata": {},
   "outputs": [],
   "source": [
    "import numpy as np\n",
    "import pandas as pd\n",
    "import requests\n",
    "from bs4 import BeautifulSoup"
   ]
  },
  {
   "cell_type": "code",
   "execution_count": 2,
   "metadata": {},
   "outputs": [],
   "source": [
    "#get the puzzle text (scraping isn't optimal, probably easier to copy paste !) \n",
    "url='https://www.janestreet.com/puzzles/study-ponder/'\n",
    "res = requests.get(url)\n",
    "soup = BeautifulSoup(res.content, 'html.parser')\n",
    "soup_p = soup.body\n",
    "x =[text for text in soup_p.stripped_strings]\n",
    "puzzle = \"\".join(x[8:])\n",
    "\n",
    "#get the list of S&P500 tickers from wikipedia. \n",
    "ticker_url='https://en.wikipedia.org/wiki/List_of_S%26P_500_companies#S&P_500_component_stocks'\n",
    "df=pd.read_html(ticker_url, header=0)[0]\n",
    "tickers = df['Symbol']"
   ]
  },
  {
   "cell_type": "code",
   "execution_count": 3,
   "metadata": {},
   "outputs": [
    {
     "name": "stdout",
     "output_type": "stream",
     "text": [
      "Ticker SPGI is missing\n"
     ]
    }
   ],
   "source": [
    "# Work out which one is missing by looping through the tickers\n",
    "for ticker in tickers:\n",
    "    #print('Found {} at {}'.format(ticker,puzzle.find(ticker)) )\n",
    "    if puzzle.find(ticker) == -1:\n",
    "        print('Ticker {} is missing'.format(ticker))"
   ]
  },
  {
   "cell_type": "code",
   "execution_count": 4,
   "metadata": {},
   "outputs": [
    {
     "name": "stdout",
     "output_type": "stream",
     "text": [
      "0 Jane Street\n",
      "1 Puzzles\n",
      "2 Intro\n",
      "3 Current Puzzle\n",
      "4 Archive\n",
      "5 Puzzle Archive\n",
      "6 Study & Ponder\n",
      "7 Oh no, which one is missing?\n",
      "8 AMDISHBANTMUSBACMAAPLDOSPGRMNVDALKQCOMCDW\n",
      "9 BAXPNRGPNCMSIVBWABCDNSCHWECLXLNXRXELINCYUMS\n",
      "10 FTNTAPDVNOVMCOFBHSICERNVRSNPSWKSUDREXRAYAEEO\n",
      "11 GCHTROPXDDRILMNOWFCCITWDCNPVHALLEGISRGPSADBE\n",
      "12 NEMNSTSCOSTTWODFLTMOSLGWWHRLNTRSGEXPEGDLRC\n",
      "13 XOMLMTPRGOOGLWMTDGXCAHONLSNKETNFITBRK.\n",
      "14 BIOCBREQIXUNHFCCLCOPEPNWLTWTRVLOWSTZTSNADISC\n",
      "15 AGILDVAREGNBLLYBDXCMGMMMCKHCATOXYLNCLHXCMIN\n",
      "16 TCBOEWELLCMCSALGNLOKCMEXPDOWUNPFEBAYCHRWAT\n",
      "17 URINTUNMHKLACPRTGTJXJPMRKFRCTVAONUEVRGDEDLTR\n",
      "18 OLFRTDYAMZNEEFXAEPWRKMXIMSCIEXCPBCTSHWMBKN\n",
      "19 GJNJCINFOXAIVZIONDAQDUKSSULTAESSLBF.\n",
      "20 BBYDHRBLKOTISYYAMCRMDLZBRAMETROWYNNIDXXUHSY\n",
      "21 FANGUALXNOCFGJNPRUAALBXPKIMASBUXAFLIRMKCTASY\n",
      "22 KMIQVRTXAMTBKRJFTIFFIVRSKMBSXAPAYCTLABMDTEIXA\n",
      "23 MATVIACNCTXSEEQRVORCLVSJMARFMCHPEAKAMPCHDHII\n",
      "24 PGPCARROSTXNFLXADPZBHBIIBMYLUVTRHIGSREMROKEY\n",
      "25 SORLYVFCSCOTYLENWSAPHMKTXTFXHSTELANETFCXUPSX\n",
      "26 HPQHOLXAOSHESPYPLDISCKAPTVJKHYAVYAJGPPLABTADS\n",
      "27 KAIGJBHTHASHLTCOGPKGAVGOPPGAIZADMABBVANSSFAS\n",
      "28 TFTVAVBPAYXAWKCVSFDXDOVFLSFISVAZOHUMAMGNWRB\n",
      "29 COOPFGCVXCSXDFS\n"
     ]
    }
   ],
   "source": [
    "for i,x in enumerate(soup.body.stripped_strings):\n",
    "    print(i,x)"
   ]
  },
  {
   "cell_type": "code",
   "execution_count": null,
   "metadata": {},
   "outputs": [],
   "source": []
  }
 ],
 "metadata": {
  "kernelspec": {
   "display_name": "Python 3",
   "language": "python",
   "name": "python3"
  },
  "language_info": {
   "codemirror_mode": {
    "name": "ipython",
    "version": 3
   },
   "file_extension": ".py",
   "mimetype": "text/x-python",
   "name": "python",
   "nbconvert_exporter": "python",
   "pygments_lexer": "ipython3",
   "version": "3.7.6"
  }
 },
 "nbformat": 4,
 "nbformat_minor": 4
}
