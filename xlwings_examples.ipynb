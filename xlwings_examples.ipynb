{
 "cells": [
  {
   "cell_type": "code",
   "execution_count": 1,
   "id": "39828e2a-1d68-44f4-8506-aeb910757dca",
   "metadata": {},
   "outputs": [],
   "source": [
    "import pandas as pd\n",
    "import xlwings as xw\n",
    "from xlwings import constants"
   ]
  },
  {
   "cell_type": "code",
   "execution_count": 2,
   "id": "6dd99867-d46f-45ef-8b33-a34ef4e30aa0",
   "metadata": {},
   "outputs": [
    {
     "data": {
      "text/html": [
       "<div>\n",
       "<style scoped>\n",
       "    .dataframe tbody tr th:only-of-type {\n",
       "        vertical-align: middle;\n",
       "    }\n",
       "\n",
       "    .dataframe tbody tr th {\n",
       "        vertical-align: top;\n",
       "    }\n",
       "\n",
       "    .dataframe thead th {\n",
       "        text-align: right;\n",
       "    }\n",
       "</style>\n",
       "<table border=\"1\" class=\"dataframe\">\n",
       "  <thead>\n",
       "    <tr style=\"text-align: right;\">\n",
       "      <th></th>\n",
       "      <th>Col1</th>\n",
       "      <th>Col2</th>\n",
       "      <th>Col3</th>\n",
       "      <th>Col4</th>\n",
       "    </tr>\n",
       "  </thead>\n",
       "  <tbody>\n",
       "    <tr>\n",
       "      <th>0</th>\n",
       "      <td>1</td>\n",
       "      <td>1</td>\n",
       "      <td>1</td>\n",
       "      <td>1</td>\n",
       "    </tr>\n",
       "    <tr>\n",
       "      <th>1</th>\n",
       "      <td>2</td>\n",
       "      <td>2</td>\n",
       "      <td>2</td>\n",
       "      <td>2</td>\n",
       "    </tr>\n",
       "  </tbody>\n",
       "</table>\n",
       "</div>"
      ],
      "text/plain": [
       "   Col1  Col2  Col3  Col4\n",
       "0     1     1     1     1\n",
       "1     2     2     2     2"
      ]
     },
     "execution_count": 2,
     "metadata": {},
     "output_type": "execute_result"
    }
   ],
   "source": [
    "data = pd.DataFrame([[1,1,1,1],[2,2,2,2]],columns = ['Col1','Col2','Col3','Col4'])\n",
    "data"
   ]
  },
  {
   "cell_type": "code",
   "execution_count": 3,
   "id": "caaa050c-6f77-4bc0-8b9d-8b36a39f6484",
   "metadata": {},
   "outputs": [],
   "source": [
    "wb = xw.Book()\n",
    "sht = wb.sheets[0]\n",
    "sht.name = 'Raw Data'\n",
    "sht.range('A1').options(index=False).value = data\n",
    "sht.cells.api.Font.Size = 8\n",
    "\n",
    "xldata = sht.range('A:D')\n",
    "\n",
    "xldata.number_format = '#,##0;[red]-#,##0;-'\n",
    "xldata.autofit()\n",
    "\n",
    "sht2 = wb.sheets.add('Pivot')"
   ]
  },
  {
   "cell_type": "code",
   "execution_count": 4,
   "id": "d96aebe5-d674-44fe-9b61-b7036e4475ce",
   "metadata": {},
   "outputs": [],
   "source": [
    "PivotCache = wb.api.PivotCaches().Create(SourceType=constants.PivotTableSourceType.xlDatabase,\n",
    "                                         SourceData=xldata.api, \n",
    "                                         Version=constants.PivotTableVersionList.xlPivotTableVersion14)\n",
    "\n",
    "PivotTable = PivotCache.CreatePivotTable(TableDestination=sht2.range('A1').api,\n",
    "                                         TableName='PivotTable1',\n",
    "                                         DefaultVersion=constants.PivotTableVersionList.xlPivotTableVersion14)\n",
    "                                         \n",
    "#change to old style                                         \n",
    "PivotTable.InGridDropZones = True\n",
    "PivotTable.RowAxisLayout(constants.LayoutRowType.xlTabularRow)\n",
    "\n",
    "#stop column autoformat\n",
    "PivotTable.HasAutoFormat = False\n",
    "#turn off row totals\n",
    "PivotTable.RowGrand = False"
   ]
  },
  {
   "cell_type": "code",
   "execution_count": 5,
   "id": "b04dade7-2b07-479e-8beb-d169729fc8b5",
   "metadata": {},
   "outputs": [],
   "source": [
    "#place the data\n",
    "PivotTable.PivotFields('Col1').Orientation = constants.PivotFieldOrientation.xlRowField\n",
    "PivotTable.PivotFields('Col1').Position = 1\n",
    "PivotTable.PivotFields('Col2').Orientation = constants.PivotFieldOrientation.xlRowField\n",
    "PivotTable.PivotFields('Col2').Position = 2\n",
    "PivotTable.PivotFields('Col3').Orientation = constants.PivotFieldOrientation.xlColumnField\n",
    "PivotTable.PivotFields('Col3').Position = 1\n",
    "PivotTable.PivotFields(\"Col4\").Orientation = constants.PivotFieldOrientation.xlDataField"
   ]
  },
  {
   "cell_type": "code",
   "execution_count": 6,
   "id": "301f71e1-077d-4337-bce3-e09ed1dca2f8",
   "metadata": {},
   "outputs": [],
   "source": [
    "#get rid of blanks\n",
    "PivotTable.PivotFields('Col3').PivotItems('(blank)').Visible = False\n",
    "#format \n",
    "PivotTable.PivotFields('Sum of Col4').NumberFormat = '#,##0;[red]-#,##0;-'\n",
    "#get rd of subtotals\n",
    "PivotTable.PivotFields(\"Col1\").Subtotals = [False]*12\n",
    "\n",
    "#sheet format\n",
    "sht2.cells.api.Font.Size = 8\n",
    "sht2.range('A:H').autofit()\n",
    "sht2.range(\"C:D\").api.HorizontalAlignment = constants.HAlign.xlHAlignCenter"
   ]
  },
  {
   "cell_type": "code",
   "execution_count": null,
   "id": "b0618f67-f54b-49f8-93d7-3712bff16293",
   "metadata": {},
   "outputs": [],
   "source": []
  }
 ],
 "metadata": {
  "kernelspec": {
   "display_name": "Python 3",
   "language": "python",
   "name": "python3"
  },
  "language_info": {
   "codemirror_mode": {
    "name": "ipython",
    "version": 3
   },
   "file_extension": ".py",
   "mimetype": "text/x-python",
   "name": "python",
   "nbconvert_exporter": "python",
   "pygments_lexer": "ipython3",
   "version": "3.7.10"
  }
 },
 "nbformat": 4,
 "nbformat_minor": 5
}
